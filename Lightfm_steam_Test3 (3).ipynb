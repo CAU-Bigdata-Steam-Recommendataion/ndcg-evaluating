{
  "cells": [
    {
      "cell_type": "code",
      "execution_count": 2,
      "metadata": {
        "colab": {
          "base_uri": "https://localhost:8080/"
        },
        "id": "RE8TMnlACRRA",
        "outputId": "35cfdb4e-1350-4d59-866b-dc8d89266ca1"
      },
      "outputs": [
        {
          "output_type": "stream",
          "name": "stdout",
          "text": [
            "Looking in indexes: https://pypi.org/simple, https://us-python.pkg.dev/colab-wheels/public/simple/\n",
            "Collecting lightfm\n",
            "  Downloading lightfm-1.16.tar.gz (310 kB)\n",
            "\u001b[K     |████████████████████████████████| 310 kB 17.9 MB/s \n",
            "\u001b[?25hRequirement already satisfied: numpy in /usr/local/lib/python3.8/dist-packages (from lightfm) (1.21.6)\n",
            "Requirement already satisfied: scipy>=0.17.0 in /usr/local/lib/python3.8/dist-packages (from lightfm) (1.7.3)\n",
            "Requirement already satisfied: requests in /usr/local/lib/python3.8/dist-packages (from lightfm) (2.23.0)\n",
            "Requirement already satisfied: scikit-learn in /usr/local/lib/python3.8/dist-packages (from lightfm) (1.0.2)\n",
            "Requirement already satisfied: urllib3!=1.25.0,!=1.25.1,<1.26,>=1.21.1 in /usr/local/lib/python3.8/dist-packages (from requests->lightfm) (1.24.3)\n",
            "Requirement already satisfied: certifi>=2017.4.17 in /usr/local/lib/python3.8/dist-packages (from requests->lightfm) (2022.9.24)\n",
            "Requirement already satisfied: idna<3,>=2.5 in /usr/local/lib/python3.8/dist-packages (from requests->lightfm) (2.10)\n",
            "Requirement already satisfied: chardet<4,>=3.0.2 in /usr/local/lib/python3.8/dist-packages (from requests->lightfm) (3.0.4)\n",
            "Requirement already satisfied: threadpoolctl>=2.0.0 in /usr/local/lib/python3.8/dist-packages (from scikit-learn->lightfm) (3.1.0)\n",
            "Requirement already satisfied: joblib>=0.11 in /usr/local/lib/python3.8/dist-packages (from scikit-learn->lightfm) (1.2.0)\n",
            "Building wheels for collected packages: lightfm\n",
            "  Building wheel for lightfm (setup.py) ... \u001b[?25l\u001b[?25hdone\n",
            "  Created wheel for lightfm: filename=lightfm-1.16-cp38-cp38-linux_x86_64.whl size=746181 sha256=fd53f5b8d86e5e8b7ef4a99d9774c8057dab9e707586ba45bd812a61121b72c9\n",
            "  Stored in directory: /root/.cache/pip/wheels/ec/bb/51/9c487d021c1373b691d13cadca0b65b6852627b1f3f43550fa\n",
            "Successfully built lightfm\n",
            "Installing collected packages: lightfm\n",
            "Successfully installed lightfm-1.16\n"
          ]
        }
      ],
      "source": [
        "%pip install lightfm"
      ]
    },
    {
      "cell_type": "code",
      "execution_count": 3,
      "metadata": {
        "id": "jYQyDmT9Cj6I"
      },
      "outputs": [],
      "source": [
        "import time\n",
        "import os\n",
        "import zipfile\n",
        "import csv\n",
        "import requests\n",
        "import json\n",
        "from itertools import islice\n",
        "\n",
        "import matplotlib\n",
        "import matplotlib.pyplot as plt\n",
        "import numpy as np\n",
        "import pandas as pd\n",
        "\n",
        "from lightfm.data import Dataset\n",
        "from lightfm import LightFM\n",
        "from lightfm.evaluation import precision_at_k\n",
        "from lightfm.evaluation import auc_score\n",
        "from lightfm.cross_validation import random_train_test_split \n",
        "\n",
        "from scipy.sparse import coo_matrix as sp\n",
        "\n",
        "import warnings # warings 제거\n",
        "warnings.filterwarnings(action='ignore')"
      ]
    },
    {
      "cell_type": "code",
      "execution_count": 5,
      "metadata": {
        "colab": {
          "base_uri": "https://localhost:8080/"
        },
        "id": "uYergncVqt3Q",
        "outputId": "69773153-d1c6-4f28-eaf5-96ce00ab0638"
      },
      "outputs": [
        {
          "output_type": "stream",
          "name": "stdout",
          "text": [
            "Mounted at /content/drive\n"
          ]
        }
      ],
      "source": [
        "from google.colab import drive\n",
        "drive.mount('/content/drive')"
      ]
    },
    {
      "cell_type": "code",
      "execution_count": null,
      "metadata": {
        "id": "SShp9Ui281RB"
      },
      "outputs": [],
      "source": [
        "# 초기설정시 기본 환경설정"
      ]
    },
    {
      "cell_type": "code",
      "execution_count": 4,
      "metadata": {
        "colab": {
          "base_uri": "https://localhost:8080/"
        },
        "id": "44F9BzpasZ8P",
        "outputId": "393fc851-936b-46e4-b0ec-2ba0f4c0f882"
      },
      "outputs": [
        {
          "output_type": "stream",
          "name": "stdout",
          "text": [
            "[Errno 2] No such file or directory: 'drive/MyDrive'\n",
            "/content\n"
          ]
        }
      ],
      "source": [
        "%cd drive/MyDrive"
      ]
    },
    {
      "cell_type": "code",
      "execution_count": null,
      "metadata": {
        "id": "9W-92m4CscgO"
      },
      "outputs": [],
      "source": [
        "%mkdir steam "
      ]
    },
    {
      "cell_type": "code",
      "execution_count": null,
      "metadata": {
        "colab": {
          "base_uri": "https://localhost:8080/"
        },
        "id": "VSzoyIsffdaT",
        "outputId": "4dacd0dc-d02c-4d17-fdd0-d9565dd3e24c"
      },
      "outputs": [
        {
          "name": "stdout",
          "output_type": "stream",
          "text": [
            "/content/drive/MyDrive/steam\n"
          ]
        }
      ],
      "source": [
        "%cd steam"
      ]
    },
    {
      "cell_type": "code",
      "execution_count": null,
      "metadata": {
        "colab": {
          "base_uri": "https://localhost:8080/"
        },
        "id": "524pABduMsr4",
        "outputId": "7e600193-5b17-488e-bbdf-de97da9fb838"
      },
      "outputs": [
        {
          "name": "stdout",
          "output_type": "stream",
          "text": [
            "Archive:  steam.zip\n",
            "  inflating: parsed_data.csv         \n",
            "  inflating: parsed_data_only_games.csv  \n",
            "  inflating: parsed_data_overten.csv  \n",
            "  inflating: steam_store_data.json   \n",
            "  inflating: Steam_store_data.pptx   \n",
            "  inflating: ~$Steam_store_data.pptx  \n"
          ]
        }
      ],
      "source": [
        "!unzip 'steam.zip' "
      ]
    },
    {
      "cell_type": "code",
      "execution_count": null,
      "metadata": {
        "id": "vzppXuMp83kS"
      },
      "outputs": [],
      "source": [
        "# 데이터 로드 (type : dataframe)"
      ]
    },
    {
      "cell_type": "code",
      "execution_count": 6,
      "metadata": {
        "id": "5iidZxVGqcIN"
      },
      "outputs": [],
      "source": [
        "with open('/content/drive/MyDrive/steam/steam_store_data.json', 'r') as game_data:\n",
        "    game_data = pd.read_json(game_data)"
      ]
    },
    {
      "cell_type": "code",
      "execution_count": 7,
      "metadata": {
        "id": "PHx68bSAqpxr"
      },
      "outputs": [],
      "source": [
        "with open('/content/drive/MyDrive/steam/parsed_data_overten_reset.csv', 'r') as review_data:\n",
        "    review_data = pd.read_csv(review_data)"
      ]
    },
    {
      "cell_type": "code",
      "execution_count": 8,
      "metadata": {
        "id": "PfLX1vn7ROOh"
      },
      "outputs": [],
      "source": [
        "with open('/content/drive/MyDrive/steam/score_data_overten_pos_neg.csv', 'r') as score_data: # ndcg\n",
        "    score_data = pd.read_csv(score_data)"
      ]
    },
    {
      "cell_type": "markdown",
      "metadata": {
        "id": "ffLY-6j7_r_H"
      },
      "source": [
        "# 1. Data structure and embedding\n"
      ]
    },
    {
      "cell_type": "markdown",
      "metadata": {
        "id": "9CetHZdUFAZW"
      },
      "source": [
        "\n",
        "\n",
        "> ## Data loading, preprocessing\n",
        "\n",
        "\n"
      ]
    },
    {
      "cell_type": "markdown",
      "metadata": {
        "id": "6iihYyI-Df-u"
      },
      "source": [
        "**user_features** : user의 특성(예시: 성별, 지역, 선호유형)\n",
        "\n",
        "**item_features**: item의 특성(예시: 제목, 가격, 장르, 국가, 게시 시간)\n",
        "\n",
        "**interactions** : user-item간의 data(평점)"
      ]
    },
    {
      "cell_type": "markdown",
      "metadata": {
        "id": "vcRAvXHXnt4T"
      },
      "source": [
        "> ## 데이터프레임 형태 변형 및 확인"
      ]
    },
    {
      "cell_type": "code",
      "execution_count": 9,
      "metadata": {
        "id": "82TWJeolnqj4"
      },
      "outputs": [],
      "source": [
        "game_data = game_data.transpose() # 행렬 뒤집기"
      ]
    },
    {
      "cell_type": "markdown",
      "metadata": {
        "id": "63C0nX3PBZvF"
      },
      "source": []
    },
    {
      "cell_type": "code",
      "execution_count": 10,
      "metadata": {
        "id": "4Y0Rf7A2tN_y"
      },
      "outputs": [],
      "source": [
        "game_data = game_data[['steam_appid', 'name']] \n",
        "review_data = review_data[['author', 'appid', 'playtime_forever', 'playtime_at_review', 'voted_up', 'votes_up']] "
      ]
    },
    {
      "cell_type": "code",
      "execution_count": null,
      "metadata": {
        "colab": {
          "base_uri": "https://localhost:8080/",
          "height": 206
        },
        "id": "Zo8ELuEqboyl",
        "outputId": "51153226-1268-456b-d9d4-437d3e46da3c"
      },
      "outputs": [
        {
          "data": {
            "text/html": [
              "\n",
              "  <div id=\"df-b76026bd-84ad-4d8d-b980-cc6c81513e95\">\n",
              "    <div class=\"colab-df-container\">\n",
              "      <div>\n",
              "<style scoped>\n",
              "    .dataframe tbody tr th:only-of-type {\n",
              "        vertical-align: middle;\n",
              "    }\n",
              "\n",
              "    .dataframe tbody tr th {\n",
              "        vertical-align: top;\n",
              "    }\n",
              "\n",
              "    .dataframe thead th {\n",
              "        text-align: right;\n",
              "    }\n",
              "</style>\n",
              "<table border=\"1\" class=\"dataframe\">\n",
              "  <thead>\n",
              "    <tr style=\"text-align: right;\">\n",
              "      <th></th>\n",
              "      <th>author</th>\n",
              "      <th>appid</th>\n",
              "      <th>playtime_forever</th>\n",
              "      <th>playtime_at_review</th>\n",
              "      <th>voted_up</th>\n",
              "      <th>votes_up</th>\n",
              "    </tr>\n",
              "  </thead>\n",
              "  <tbody>\n",
              "    <tr>\n",
              "      <th>0</th>\n",
              "      <td>76561198976638577</td>\n",
              "      <td>10</td>\n",
              "      <td>104.0</td>\n",
              "      <td>10</td>\n",
              "      <td>True</td>\n",
              "      <td>0</td>\n",
              "    </tr>\n",
              "    <tr>\n",
              "      <th>1</th>\n",
              "      <td>76561198391972225</td>\n",
              "      <td>10</td>\n",
              "      <td>426.0</td>\n",
              "      <td>426</td>\n",
              "      <td>True</td>\n",
              "      <td>1</td>\n",
              "    </tr>\n",
              "    <tr>\n",
              "      <th>2</th>\n",
              "      <td>76561198414408167</td>\n",
              "      <td>10</td>\n",
              "      <td>386.0</td>\n",
              "      <td>199</td>\n",
              "      <td>True</td>\n",
              "      <td>0</td>\n",
              "    </tr>\n",
              "    <tr>\n",
              "      <th>3</th>\n",
              "      <td>76561198376936422</td>\n",
              "      <td>10</td>\n",
              "      <td>165.0</td>\n",
              "      <td>184</td>\n",
              "      <td>True</td>\n",
              "      <td>0</td>\n",
              "    </tr>\n",
              "    <tr>\n",
              "      <th>4</th>\n",
              "      <td>76561198905733625</td>\n",
              "      <td>10</td>\n",
              "      <td>28.0</td>\n",
              "      <td>40</td>\n",
              "      <td>True</td>\n",
              "      <td>0</td>\n",
              "    </tr>\n",
              "  </tbody>\n",
              "</table>\n",
              "</div>\n",
              "      <button class=\"colab-df-convert\" onclick=\"convertToInteractive('df-b76026bd-84ad-4d8d-b980-cc6c81513e95')\"\n",
              "              title=\"Convert this dataframe to an interactive table.\"\n",
              "              style=\"display:none;\">\n",
              "        \n",
              "  <svg xmlns=\"http://www.w3.org/2000/svg\" height=\"24px\"viewBox=\"0 0 24 24\"\n",
              "       width=\"24px\">\n",
              "    <path d=\"M0 0h24v24H0V0z\" fill=\"none\"/>\n",
              "    <path d=\"M18.56 5.44l.94 2.06.94-2.06 2.06-.94-2.06-.94-.94-2.06-.94 2.06-2.06.94zm-11 1L8.5 8.5l.94-2.06 2.06-.94-2.06-.94L8.5 2.5l-.94 2.06-2.06.94zm10 10l.94 2.06.94-2.06 2.06-.94-2.06-.94-.94-2.06-.94 2.06-2.06.94z\"/><path d=\"M17.41 7.96l-1.37-1.37c-.4-.4-.92-.59-1.43-.59-.52 0-1.04.2-1.43.59L10.3 9.45l-7.72 7.72c-.78.78-.78 2.05 0 2.83L4 21.41c.39.39.9.59 1.41.59.51 0 1.02-.2 1.41-.59l7.78-7.78 2.81-2.81c.8-.78.8-2.07 0-2.86zM5.41 20L4 18.59l7.72-7.72 1.47 1.35L5.41 20z\"/>\n",
              "  </svg>\n",
              "      </button>\n",
              "      \n",
              "  <style>\n",
              "    .colab-df-container {\n",
              "      display:flex;\n",
              "      flex-wrap:wrap;\n",
              "      gap: 12px;\n",
              "    }\n",
              "\n",
              "    .colab-df-convert {\n",
              "      background-color: #E8F0FE;\n",
              "      border: none;\n",
              "      border-radius: 50%;\n",
              "      cursor: pointer;\n",
              "      display: none;\n",
              "      fill: #1967D2;\n",
              "      height: 32px;\n",
              "      padding: 0 0 0 0;\n",
              "      width: 32px;\n",
              "    }\n",
              "\n",
              "    .colab-df-convert:hover {\n",
              "      background-color: #E2EBFA;\n",
              "      box-shadow: 0px 1px 2px rgba(60, 64, 67, 0.3), 0px 1px 3px 1px rgba(60, 64, 67, 0.15);\n",
              "      fill: #174EA6;\n",
              "    }\n",
              "\n",
              "    [theme=dark] .colab-df-convert {\n",
              "      background-color: #3B4455;\n",
              "      fill: #D2E3FC;\n",
              "    }\n",
              "\n",
              "    [theme=dark] .colab-df-convert:hover {\n",
              "      background-color: #434B5C;\n",
              "      box-shadow: 0px 1px 3px 1px rgba(0, 0, 0, 0.15);\n",
              "      filter: drop-shadow(0px 1px 2px rgba(0, 0, 0, 0.3));\n",
              "      fill: #FFFFFF;\n",
              "    }\n",
              "  </style>\n",
              "\n",
              "      <script>\n",
              "        const buttonEl =\n",
              "          document.querySelector('#df-b76026bd-84ad-4d8d-b980-cc6c81513e95 button.colab-df-convert');\n",
              "        buttonEl.style.display =\n",
              "          google.colab.kernel.accessAllowed ? 'block' : 'none';\n",
              "\n",
              "        async function convertToInteractive(key) {\n",
              "          const element = document.querySelector('#df-b76026bd-84ad-4d8d-b980-cc6c81513e95');\n",
              "          const dataTable =\n",
              "            await google.colab.kernel.invokeFunction('convertToInteractive',\n",
              "                                                     [key], {});\n",
              "          if (!dataTable) return;\n",
              "\n",
              "          const docLinkHtml = 'Like what you see? Visit the ' +\n",
              "            '<a target=\"_blank\" href=https://colab.research.google.com/notebooks/data_table.ipynb>data table notebook</a>'\n",
              "            + ' to learn more about interactive tables.';\n",
              "          element.innerHTML = '';\n",
              "          dataTable['output_type'] = 'display_data';\n",
              "          await google.colab.output.renderOutput(dataTable, element);\n",
              "          const docLink = document.createElement('div');\n",
              "          docLink.innerHTML = docLinkHtml;\n",
              "          element.appendChild(docLink);\n",
              "        }\n",
              "      </script>\n",
              "    </div>\n",
              "  </div>\n",
              "  "
            ],
            "text/plain": [
              "              author  appid  playtime_forever  playtime_at_review  voted_up  \\\n",
              "0  76561198976638577     10             104.0                  10      True   \n",
              "1  76561198391972225     10             426.0                 426      True   \n",
              "2  76561198414408167     10             386.0                 199      True   \n",
              "3  76561198376936422     10             165.0                 184      True   \n",
              "4  76561198905733625     10              28.0                  40      True   \n",
              "\n",
              "   votes_up  \n",
              "0         0  \n",
              "1         1  \n",
              "2         0  \n",
              "3         0  \n",
              "4         0  "
            ]
          },
          "execution_count": 26,
          "metadata": {},
          "output_type": "execute_result"
        }
      ],
      "source": [
        "review_data.head()"
      ]
    },
    {
      "cell_type": "code",
      "execution_count": 11,
      "metadata": {
        "id": "-_YVmtgCC78a"
      },
      "outputs": [],
      "source": [
        "# 변수명 명시적으로 변경함\n",
        "\n",
        "ratings = review_data \n",
        "games = game_data "
      ]
    },
    {
      "cell_type": "code",
      "execution_count": 12,
      "metadata": {
        "id": "rBCMYSgDpHpr"
      },
      "outputs": [],
      "source": [
        "ratings['author'] = ratings['author'].astype('str') # ratings['author']의 타입이 numpy.int64 이므로 str로 변환"
      ]
    },
    {
      "cell_type": "markdown",
      "metadata": {
        "id": "j4ek910CAk3h"
      },
      "source": [
        "\n",
        "\n",
        "> ## Data embedding\n",
        "위의 데이터를 embedding dataset으로 build\n",
        "\n"
      ]
    },
    {
      "cell_type": "code",
      "execution_count": null,
      "metadata": {
        "id": "Q4KgMDdImEcD"
      },
      "outputs": [],
      "source": [
        "# 데이터프레임 중복 확인"
      ]
    },
    {
      "cell_type": "code",
      "execution_count": 13,
      "metadata": {
        "id": "G2F_OrnfxwYj"
      },
      "outputs": [],
      "source": [
        "users = ratings[['author']]\n",
        "users.drop_duplicates(inplace = True)"
      ]
    },
    {
      "cell_type": "code",
      "execution_count": null,
      "metadata": {
        "colab": {
          "base_uri": "https://localhost:8080/",
          "height": 206
        },
        "id": "jAX41gurb7Tx",
        "outputId": "5e23ef7e-1f23-4c45-e9da-d98acb9b05ad"
      },
      "outputs": [
        {
          "data": {
            "text/html": [
              "\n",
              "  <div id=\"df-8613488a-7fb6-45f7-aec1-a89a3df1d3b6\">\n",
              "    <div class=\"colab-df-container\">\n",
              "      <div>\n",
              "<style scoped>\n",
              "    .dataframe tbody tr th:only-of-type {\n",
              "        vertical-align: middle;\n",
              "    }\n",
              "\n",
              "    .dataframe tbody tr th {\n",
              "        vertical-align: top;\n",
              "    }\n",
              "\n",
              "    .dataframe thead th {\n",
              "        text-align: right;\n",
              "    }\n",
              "</style>\n",
              "<table border=\"1\" class=\"dataframe\">\n",
              "  <thead>\n",
              "    <tr style=\"text-align: right;\">\n",
              "      <th></th>\n",
              "      <th>author</th>\n",
              "    </tr>\n",
              "  </thead>\n",
              "  <tbody>\n",
              "    <tr>\n",
              "      <th>0</th>\n",
              "      <td>76561198976638577</td>\n",
              "    </tr>\n",
              "    <tr>\n",
              "      <th>1</th>\n",
              "      <td>76561198391972225</td>\n",
              "    </tr>\n",
              "    <tr>\n",
              "      <th>2</th>\n",
              "      <td>76561198414408167</td>\n",
              "    </tr>\n",
              "    <tr>\n",
              "      <th>3</th>\n",
              "      <td>76561198376936422</td>\n",
              "    </tr>\n",
              "    <tr>\n",
              "      <th>4</th>\n",
              "      <td>76561198905733625</td>\n",
              "    </tr>\n",
              "  </tbody>\n",
              "</table>\n",
              "</div>\n",
              "      <button class=\"colab-df-convert\" onclick=\"convertToInteractive('df-8613488a-7fb6-45f7-aec1-a89a3df1d3b6')\"\n",
              "              title=\"Convert this dataframe to an interactive table.\"\n",
              "              style=\"display:none;\">\n",
              "        \n",
              "  <svg xmlns=\"http://www.w3.org/2000/svg\" height=\"24px\"viewBox=\"0 0 24 24\"\n",
              "       width=\"24px\">\n",
              "    <path d=\"M0 0h24v24H0V0z\" fill=\"none\"/>\n",
              "    <path d=\"M18.56 5.44l.94 2.06.94-2.06 2.06-.94-2.06-.94-.94-2.06-.94 2.06-2.06.94zm-11 1L8.5 8.5l.94-2.06 2.06-.94-2.06-.94L8.5 2.5l-.94 2.06-2.06.94zm10 10l.94 2.06.94-2.06 2.06-.94-2.06-.94-.94-2.06-.94 2.06-2.06.94z\"/><path d=\"M17.41 7.96l-1.37-1.37c-.4-.4-.92-.59-1.43-.59-.52 0-1.04.2-1.43.59L10.3 9.45l-7.72 7.72c-.78.78-.78 2.05 0 2.83L4 21.41c.39.39.9.59 1.41.59.51 0 1.02-.2 1.41-.59l7.78-7.78 2.81-2.81c.8-.78.8-2.07 0-2.86zM5.41 20L4 18.59l7.72-7.72 1.47 1.35L5.41 20z\"/>\n",
              "  </svg>\n",
              "      </button>\n",
              "      \n",
              "  <style>\n",
              "    .colab-df-container {\n",
              "      display:flex;\n",
              "      flex-wrap:wrap;\n",
              "      gap: 12px;\n",
              "    }\n",
              "\n",
              "    .colab-df-convert {\n",
              "      background-color: #E8F0FE;\n",
              "      border: none;\n",
              "      border-radius: 50%;\n",
              "      cursor: pointer;\n",
              "      display: none;\n",
              "      fill: #1967D2;\n",
              "      height: 32px;\n",
              "      padding: 0 0 0 0;\n",
              "      width: 32px;\n",
              "    }\n",
              "\n",
              "    .colab-df-convert:hover {\n",
              "      background-color: #E2EBFA;\n",
              "      box-shadow: 0px 1px 2px rgba(60, 64, 67, 0.3), 0px 1px 3px 1px rgba(60, 64, 67, 0.15);\n",
              "      fill: #174EA6;\n",
              "    }\n",
              "\n",
              "    [theme=dark] .colab-df-convert {\n",
              "      background-color: #3B4455;\n",
              "      fill: #D2E3FC;\n",
              "    }\n",
              "\n",
              "    [theme=dark] .colab-df-convert:hover {\n",
              "      background-color: #434B5C;\n",
              "      box-shadow: 0px 1px 3px 1px rgba(0, 0, 0, 0.15);\n",
              "      filter: drop-shadow(0px 1px 2px rgba(0, 0, 0, 0.3));\n",
              "      fill: #FFFFFF;\n",
              "    }\n",
              "  </style>\n",
              "\n",
              "      <script>\n",
              "        const buttonEl =\n",
              "          document.querySelector('#df-8613488a-7fb6-45f7-aec1-a89a3df1d3b6 button.colab-df-convert');\n",
              "        buttonEl.style.display =\n",
              "          google.colab.kernel.accessAllowed ? 'block' : 'none';\n",
              "\n",
              "        async function convertToInteractive(key) {\n",
              "          const element = document.querySelector('#df-8613488a-7fb6-45f7-aec1-a89a3df1d3b6');\n",
              "          const dataTable =\n",
              "            await google.colab.kernel.invokeFunction('convertToInteractive',\n",
              "                                                     [key], {});\n",
              "          if (!dataTable) return;\n",
              "\n",
              "          const docLinkHtml = 'Like what you see? Visit the ' +\n",
              "            '<a target=\"_blank\" href=https://colab.research.google.com/notebooks/data_table.ipynb>data table notebook</a>'\n",
              "            + ' to learn more about interactive tables.';\n",
              "          element.innerHTML = '';\n",
              "          dataTable['output_type'] = 'display_data';\n",
              "          await google.colab.output.renderOutput(dataTable, element);\n",
              "          const docLink = document.createElement('div');\n",
              "          docLink.innerHTML = docLinkHtml;\n",
              "          element.appendChild(docLink);\n",
              "        }\n",
              "      </script>\n",
              "    </div>\n",
              "  </div>\n",
              "  "
            ],
            "text/plain": [
              "              author\n",
              "0  76561198976638577\n",
              "1  76561198391972225\n",
              "2  76561198414408167\n",
              "3  76561198376936422\n",
              "4  76561198905733625"
            ]
          },
          "execution_count": 27,
          "metadata": {},
          "output_type": "execute_result"
        }
      ],
      "source": [
        "users.head()"
      ]
    },
    {
      "cell_type": "code",
      "execution_count": 14,
      "metadata": {
        "id": "xL3zNgcX-ljt"
      },
      "outputs": [],
      "source": [
        "ratings.drop_duplicates(inplace = True) # 14916136 -> 13828950로 중복 행 제거"
      ]
    },
    {
      "cell_type": "code",
      "execution_count": 15,
      "metadata": {
        "id": "ALAnZe8DyBjY"
      },
      "outputs": [],
      "source": [
        "items = ratings[['appid']]\n",
        "items.drop_duplicates(inplace = True)"
      ]
    },
    {
      "cell_type": "code",
      "execution_count": null,
      "metadata": {
        "colab": {
          "base_uri": "https://localhost:8080/",
          "height": 206
        },
        "id": "RTS6crTscQUm",
        "outputId": "add060ae-9d59-400e-f5cf-be0aa9501bd2"
      },
      "outputs": [
        {
          "data": {
            "text/html": [
              "\n",
              "  <div id=\"df-0323d538-c1b6-4b08-a1bc-e1318f1df7ea\">\n",
              "    <div class=\"colab-df-container\">\n",
              "      <div>\n",
              "<style scoped>\n",
              "    .dataframe tbody tr th:only-of-type {\n",
              "        vertical-align: middle;\n",
              "    }\n",
              "\n",
              "    .dataframe tbody tr th {\n",
              "        vertical-align: top;\n",
              "    }\n",
              "\n",
              "    .dataframe thead th {\n",
              "        text-align: right;\n",
              "    }\n",
              "</style>\n",
              "<table border=\"1\" class=\"dataframe\">\n",
              "  <thead>\n",
              "    <tr style=\"text-align: right;\">\n",
              "      <th></th>\n",
              "      <th>appid</th>\n",
              "    </tr>\n",
              "  </thead>\n",
              "  <tbody>\n",
              "    <tr>\n",
              "      <th>0</th>\n",
              "      <td>10</td>\n",
              "    </tr>\n",
              "    <tr>\n",
              "      <th>17438</th>\n",
              "      <td>100</td>\n",
              "    </tr>\n",
              "    <tr>\n",
              "      <th>18456</th>\n",
              "      <td>1000010</td>\n",
              "    </tr>\n",
              "    <tr>\n",
              "      <th>19601</th>\n",
              "      <td>1000030</td>\n",
              "    </tr>\n",
              "    <tr>\n",
              "      <th>20007</th>\n",
              "      <td>1000080</td>\n",
              "    </tr>\n",
              "  </tbody>\n",
              "</table>\n",
              "</div>\n",
              "      <button class=\"colab-df-convert\" onclick=\"convertToInteractive('df-0323d538-c1b6-4b08-a1bc-e1318f1df7ea')\"\n",
              "              title=\"Convert this dataframe to an interactive table.\"\n",
              "              style=\"display:none;\">\n",
              "        \n",
              "  <svg xmlns=\"http://www.w3.org/2000/svg\" height=\"24px\"viewBox=\"0 0 24 24\"\n",
              "       width=\"24px\">\n",
              "    <path d=\"M0 0h24v24H0V0z\" fill=\"none\"/>\n",
              "    <path d=\"M18.56 5.44l.94 2.06.94-2.06 2.06-.94-2.06-.94-.94-2.06-.94 2.06-2.06.94zm-11 1L8.5 8.5l.94-2.06 2.06-.94-2.06-.94L8.5 2.5l-.94 2.06-2.06.94zm10 10l.94 2.06.94-2.06 2.06-.94-2.06-.94-.94-2.06-.94 2.06-2.06.94z\"/><path d=\"M17.41 7.96l-1.37-1.37c-.4-.4-.92-.59-1.43-.59-.52 0-1.04.2-1.43.59L10.3 9.45l-7.72 7.72c-.78.78-.78 2.05 0 2.83L4 21.41c.39.39.9.59 1.41.59.51 0 1.02-.2 1.41-.59l7.78-7.78 2.81-2.81c.8-.78.8-2.07 0-2.86zM5.41 20L4 18.59l7.72-7.72 1.47 1.35L5.41 20z\"/>\n",
              "  </svg>\n",
              "      </button>\n",
              "      \n",
              "  <style>\n",
              "    .colab-df-container {\n",
              "      display:flex;\n",
              "      flex-wrap:wrap;\n",
              "      gap: 12px;\n",
              "    }\n",
              "\n",
              "    .colab-df-convert {\n",
              "      background-color: #E8F0FE;\n",
              "      border: none;\n",
              "      border-radius: 50%;\n",
              "      cursor: pointer;\n",
              "      display: none;\n",
              "      fill: #1967D2;\n",
              "      height: 32px;\n",
              "      padding: 0 0 0 0;\n",
              "      width: 32px;\n",
              "    }\n",
              "\n",
              "    .colab-df-convert:hover {\n",
              "      background-color: #E2EBFA;\n",
              "      box-shadow: 0px 1px 2px rgba(60, 64, 67, 0.3), 0px 1px 3px 1px rgba(60, 64, 67, 0.15);\n",
              "      fill: #174EA6;\n",
              "    }\n",
              "\n",
              "    [theme=dark] .colab-df-convert {\n",
              "      background-color: #3B4455;\n",
              "      fill: #D2E3FC;\n",
              "    }\n",
              "\n",
              "    [theme=dark] .colab-df-convert:hover {\n",
              "      background-color: #434B5C;\n",
              "      box-shadow: 0px 1px 3px 1px rgba(0, 0, 0, 0.15);\n",
              "      filter: drop-shadow(0px 1px 2px rgba(0, 0, 0, 0.3));\n",
              "      fill: #FFFFFF;\n",
              "    }\n",
              "  </style>\n",
              "\n",
              "      <script>\n",
              "        const buttonEl =\n",
              "          document.querySelector('#df-0323d538-c1b6-4b08-a1bc-e1318f1df7ea button.colab-df-convert');\n",
              "        buttonEl.style.display =\n",
              "          google.colab.kernel.accessAllowed ? 'block' : 'none';\n",
              "\n",
              "        async function convertToInteractive(key) {\n",
              "          const element = document.querySelector('#df-0323d538-c1b6-4b08-a1bc-e1318f1df7ea');\n",
              "          const dataTable =\n",
              "            await google.colab.kernel.invokeFunction('convertToInteractive',\n",
              "                                                     [key], {});\n",
              "          if (!dataTable) return;\n",
              "\n",
              "          const docLinkHtml = 'Like what you see? Visit the ' +\n",
              "            '<a target=\"_blank\" href=https://colab.research.google.com/notebooks/data_table.ipynb>data table notebook</a>'\n",
              "            + ' to learn more about interactive tables.';\n",
              "          element.innerHTML = '';\n",
              "          dataTable['output_type'] = 'display_data';\n",
              "          await google.colab.output.renderOutput(dataTable, element);\n",
              "          const docLink = document.createElement('div');\n",
              "          docLink.innerHTML = docLinkHtml;\n",
              "          element.appendChild(docLink);\n",
              "        }\n",
              "      </script>\n",
              "    </div>\n",
              "  </div>\n",
              "  "
            ],
            "text/plain": [
              "         appid\n",
              "0           10\n",
              "17438      100\n",
              "18456  1000010\n",
              "19601  1000030\n",
              "20007  1000080"
            ]
          },
          "execution_count": 30,
          "metadata": {},
          "output_type": "execute_result"
        }
      ],
      "source": [
        "items.head()"
      ]
    },
    {
      "cell_type": "code",
      "execution_count": null,
      "metadata": {
        "colab": {
          "base_uri": "https://localhost:8080/"
        },
        "id": "ry2eo-25yKRx",
        "outputId": "a66a790f-7677-4314-c74d-3d5dfec3fca7"
      },
      "outputs": [
        {
          "data": {
            "text/plain": [
              "11566"
            ]
          },
          "execution_count": 31,
          "metadata": {},
          "output_type": "execute_result"
        }
      ],
      "source": [
        "items.shape[0] # 총 게임 개수는 51927인데 반해 리뷰에 있는 게임 개수는 11566(따라서 interactions의 item 개수는 11566)"
      ]
    },
    {
      "cell_type": "code",
      "execution_count": 16,
      "metadata": {
        "id": "KItRQP65_obp"
      },
      "outputs": [],
      "source": [
        "games.drop_duplicates(inplace = True) # 51936 -> 51927로 중복 행 제거"
      ]
    },
    {
      "cell_type": "code",
      "execution_count": null,
      "metadata": {
        "id": "WpC_kCyEmIaV"
      },
      "outputs": [],
      "source": [
        "# user-item 사이의 interactions matrix 생성"
      ]
    },
    {
      "cell_type": "code",
      "execution_count": 17,
      "metadata": {
        "id": "dwUHcmHul0p8"
      },
      "outputs": [],
      "source": [
        "user_features_source = ratings[['author', 'playtime_forever']]\n",
        "user_features_source.drop_duplicates(inplace = True)"
      ]
    },
    {
      "cell_type": "code",
      "execution_count": 18,
      "metadata": {
        "id": "ZIUTOi0Dl6uX"
      },
      "outputs": [],
      "source": [
        "user_features_source = user_features_source.groupby('author')['playtime_forever'].sum()\n",
        "user_features_source = pd.DataFrame(user_features_source)\n",
        "user_features_source.reset_index(inplace = True)"
      ]
    },
    {
      "cell_type": "code",
      "execution_count": 19,
      "metadata": {
        "id": "mSaIYIDEu_aD"
      },
      "outputs": [],
      "source": [
        "uf = []\n",
        "\n",
        "playtime_forever = user_features_source[['playtime_forever']]\n",
        "playtime_forever.drop_duplicates(inplace = True)\n",
        "\n",
        "for i in range(playtime_forever.shape[0]):\n",
        "  uf.append('playtime_forever:{0}'.format(playtime_forever.iloc[i][0]))"
      ]
    },
    {
      "cell_type": "code",
      "execution_count": 20,
      "metadata": {
        "id": "r9z0xxkQ-GBX"
      },
      "outputs": [],
      "source": [
        "dataset = Dataset()\n",
        "dataset.fit(users=users['author'], items=items['appid'],user_features = uf)"
      ]
    },
    {
      "cell_type": "code",
      "execution_count": 21,
      "metadata": {
        "id": "5s_97Hu7l2JN"
      },
      "outputs": [],
      "source": [
        "ratings_source = ratings[['author', 'appid']]\n",
        "ratings_source.drop_duplicates(inplace = True)\n",
        "ratings_source = ratings_source.values.tolist()"
      ]
    },
    {
      "cell_type": "code",
      "execution_count": 22,
      "metadata": {
        "id": "U06DiADXajbG"
      },
      "outputs": [],
      "source": [
        "interactions, weights = dataset.build_interactions(ratings_source)"
      ]
    },
    {
      "cell_type": "code",
      "execution_count": null,
      "metadata": {
        "id": "R3zzWYmzmMVy"
      },
      "outputs": [],
      "source": [
        "# user_features 빌드"
      ]
    },
    {
      "cell_type": "code",
      "execution_count": 23,
      "metadata": {
        "id": "bc7qDZmRQzuY"
      },
      "outputs": [],
      "source": [
        "user_features_source = user_features_source[['author', 'playtime_forever']].values.tolist()"
      ]
    },
    {
      "cell_type": "code",
      "execution_count": 24,
      "metadata": {
        "id": "hoP4lkg2qfUm"
      },
      "outputs": [],
      "source": [
        "user_features_source = [[i[0], ['playtime_forever:{0}'.format(i[1])]] for i in user_features_source]"
      ]
    },
    {
      "cell_type": "code",
      "execution_count": 25,
      "metadata": {
        "id": "63ObcUevJtVo"
      },
      "outputs": [],
      "source": [
        "user_features=dataset.build_user_features(user_features_source)"
      ]
    },
    {
      "cell_type": "markdown",
      "metadata": {
        "id": "q3hAoSP_CgGB"
      },
      "source": [
        "# 2. LightFM Model Function"
      ]
    },
    {
      "cell_type": "markdown",
      "metadata": {
        "id": "rjJ4FlflE6jc"
      },
      "source": [
        "\n",
        "\n",
        "> ## Model fit, optimize\n",
        "\n"
      ]
    },
    {
      "cell_type": "markdown",
      "metadata": {
        "id": "a8eSWzM0FuZn"
      },
      "source": [
        "loss function 으로  WARP ,  정확도는 precision@k 를 사용하여 evalutation 을 해준다."
      ]
    },
    {
      "cell_type": "code",
      "execution_count": null,
      "metadata": {
        "id": "sbH0VQskF-XK"
      },
      "outputs": [],
      "source": [
        "# 모델 생성 및 학습시킴"
      ]
    },
    {
      "cell_type": "code",
      "execution_count": 26,
      "metadata": {
        "colab": {
          "base_uri": "https://localhost:8080/"
        },
        "id": "eKjxwd0881Dr",
        "outputId": "c720085d-052f-4e97-abe9-9d4026e65623"
      },
      "outputs": [
        {
          "output_type": "execute_result",
          "data": {
            "text/plain": [
              "<lightfm.lightfm.LightFM at 0x7fcae992fca0>"
            ]
          },
          "metadata": {},
          "execution_count": 26
        }
      ],
      "source": [
        "model = LightFM(loss='warp') \n",
        "train, test = random_train_test_split(interactions=interactions, test_percentage=0.25) # test_percentage 0.2 -> 0.25\n",
        "model.fit(train, item_features=None, user_features=user_features, epochs = 10) # 에포크 2회 -> 10회"
      ]
    },
    {
      "cell_type": "code",
      "execution_count": null,
      "metadata": {
        "id": "KNUzAg7GGDQF"
      },
      "outputs": [],
      "source": [
        "# precision at k 방식으로 평가"
      ]
    },
    {
      "cell_type": "code",
      "execution_count": null,
      "metadata": {
        "colab": {
          "background_save": true
        },
        "id": "QC1kBeSj1OqG",
        "outputId": "9aac23b8-515d-436f-b30a-43fdbc4992b4"
      },
      "outputs": [
        {
          "ename": "KeyboardInterrupt",
          "evalue": "ignored",
          "output_type": "error",
          "traceback": [
            "\u001b[0;31m---------------------------------------------------------------------------\u001b[0m",
            "\u001b[0;31mKeyboardInterrupt\u001b[0m                         Traceback (most recent call last)",
            "\u001b[0;32m<ipython-input-75-34d778add23a>\u001b[0m in \u001b[0;36m<module>\u001b[0;34m\u001b[0m\n\u001b[0;32m----> 1\u001b[0;31m \u001b[0mtrain_precision\u001b[0m \u001b[0;34m=\u001b[0m \u001b[0mprecision_at_k\u001b[0m\u001b[0;34m(\u001b[0m\u001b[0mmodel\u001b[0m\u001b[0;34m,\u001b[0m \u001b[0mtrain\u001b[0m\u001b[0;34m,\u001b[0m \u001b[0mk\u001b[0m\u001b[0;34m=\u001b[0m\u001b[0;36m5\u001b[0m\u001b[0;34m,\u001b[0m \u001b[0mitem_features\u001b[0m\u001b[0;34m=\u001b[0m\u001b[0;32mNone\u001b[0m\u001b[0;34m,\u001b[0m\u001b[0muser_features\u001b[0m\u001b[0;34m=\u001b[0m\u001b[0muser_features\u001b[0m\u001b[0;34m)\u001b[0m\u001b[0;34m.\u001b[0m\u001b[0mmean\u001b[0m\u001b[0;34m(\u001b[0m\u001b[0;34m)\u001b[0m\u001b[0;34m\u001b[0m\u001b[0;34m\u001b[0m\u001b[0m\n\u001b[0m",
            "\u001b[0;32m/usr/local/lib/python3.8/dist-packages/lightfm/evaluation.py\u001b[0m in \u001b[0;36mprecision_at_k\u001b[0;34m(model, test_interactions, train_interactions, k, user_features, item_features, preserve_rows, num_threads, check_intersections)\u001b[0m\n\u001b[1;32m     69\u001b[0m         \u001b[0;32mraise\u001b[0m \u001b[0mValueError\u001b[0m\u001b[0;34m(\u001b[0m\u001b[0;34m\"Number of threads must be 1 or larger.\"\u001b[0m\u001b[0;34m)\u001b[0m\u001b[0;34m\u001b[0m\u001b[0;34m\u001b[0m\u001b[0m\n\u001b[1;32m     70\u001b[0m \u001b[0;34m\u001b[0m\u001b[0m\n\u001b[0;32m---> 71\u001b[0;31m     ranks = model.predict_rank(\n\u001b[0m\u001b[1;32m     72\u001b[0m         \u001b[0mtest_interactions\u001b[0m\u001b[0;34m,\u001b[0m\u001b[0;34m\u001b[0m\u001b[0;34m\u001b[0m\u001b[0m\n\u001b[1;32m     73\u001b[0m         \u001b[0mtrain_interactions\u001b[0m\u001b[0;34m=\u001b[0m\u001b[0mtrain_interactions\u001b[0m\u001b[0;34m,\u001b[0m\u001b[0;34m\u001b[0m\u001b[0;34m\u001b[0m\u001b[0m\n",
            "\u001b[0;32m/usr/local/lib/python3.8/dist-packages/lightfm/lightfm.py\u001b[0m in \u001b[0;36mpredict_rank\u001b[0;34m(self, test_interactions, train_interactions, item_features, user_features, num_threads, check_intersections)\u001b[0m\n\u001b[1;32m    940\u001b[0m         \u001b[0mlightfm_data\u001b[0m \u001b[0;34m=\u001b[0m \u001b[0mself\u001b[0m\u001b[0;34m.\u001b[0m\u001b[0m_get_lightfm_data\u001b[0m\u001b[0;34m(\u001b[0m\u001b[0;34m)\u001b[0m\u001b[0;34m\u001b[0m\u001b[0;34m\u001b[0m\u001b[0m\n\u001b[1;32m    941\u001b[0m \u001b[0;34m\u001b[0m\u001b[0m\n\u001b[0;32m--> 942\u001b[0;31m         predict_ranks(\n\u001b[0m\u001b[1;32m    943\u001b[0m             \u001b[0mCSRMatrix\u001b[0m\u001b[0;34m(\u001b[0m\u001b[0mitem_features\u001b[0m\u001b[0;34m)\u001b[0m\u001b[0;34m,\u001b[0m\u001b[0;34m\u001b[0m\u001b[0;34m\u001b[0m\u001b[0m\n\u001b[1;32m    944\u001b[0m             \u001b[0mCSRMatrix\u001b[0m\u001b[0;34m(\u001b[0m\u001b[0muser_features\u001b[0m\u001b[0;34m)\u001b[0m\u001b[0;34m,\u001b[0m\u001b[0;34m\u001b[0m\u001b[0;34m\u001b[0m\u001b[0m\n",
            "\u001b[0;31mKeyboardInterrupt\u001b[0m: "
          ]
        }
      ],
      "source": [
        "train_precision = precision_at_k(model, train, k=5, item_features=None,user_features=user_features).mean()"
      ]
    },
    {
      "cell_type": "code",
      "execution_count": null,
      "metadata": {
        "id": "PxBDmMAU1582"
      },
      "outputs": [],
      "source": [
        "test_precision = precision_at_k(model, test, k=10, item_features=None,user_features=user_features).mean()"
      ]
    },
    {
      "cell_type": "code",
      "execution_count": null,
      "metadata": {
        "id": "87uhZr4T2VHd"
      },
      "outputs": [],
      "source": [
        "print( 'Precision: train %.4f, test %.4f' \n",
        "      % ( train_precision,test_precision ))"
      ]
    },
    {
      "cell_type": "code",
      "execution_count": null,
      "metadata": {
        "id": "mMraX4DzGHKk"
      },
      "outputs": [],
      "source": [
        "# auc 방식으로 평가"
      ]
    },
    {
      "cell_type": "code",
      "execution_count": null,
      "metadata": {
        "id": "-eEQY0ClGI0d"
      },
      "outputs": [],
      "source": [
        "train_auc = auc_score(model, train, item_features=None,user_features=user_features).mean()"
      ]
    },
    {
      "cell_type": "code",
      "execution_count": null,
      "metadata": {
        "id": "R4k8thvAH8Q4"
      },
      "outputs": [],
      "source": [
        "test_auc = auc_score(model, test, item_features=None,user_features=user_features).mean()"
      ]
    },
    {
      "cell_type": "code",
      "execution_count": null,
      "metadata": {
        "id": "jH7Yys8pH9Zt"
      },
      "outputs": [],
      "source": [
        "print( 'AUC: train %.4f, test %.4f.' \n",
        "      % ( train_auc, test_auc))"
      ]
    },
    {
      "cell_type": "code",
      "execution_count": 98,
      "metadata": {
        "colab": {
          "base_uri": "https://localhost:8080/"
        },
        "id": "tB80yRbf5e6a",
        "outputId": "3f181235-ae20-4fcc-a933-7949a20b80f8"
      },
      "outputs": [
        {
          "output_type": "stream",
          "name": "stdout",
          "text": [
            "Looking in indexes: https://pypi.org/simple, https://us-python.pkg.dev/colab-wheels/public/simple/\n",
            "Requirement already satisfied: scikit-learn in /usr/local/lib/python3.8/dist-packages (1.0.2)\n",
            "Requirement already satisfied: numpy>=1.14.6 in /usr/local/lib/python3.8/dist-packages (from scikit-learn) (1.21.6)\n",
            "Requirement already satisfied: joblib>=0.11 in /usr/local/lib/python3.8/dist-packages (from scikit-learn) (1.2.0)\n",
            "Requirement already satisfied: threadpoolctl>=2.0.0 in /usr/local/lib/python3.8/dist-packages (from scikit-learn) (3.1.0)\n",
            "Requirement already satisfied: scipy>=1.1.0 in /usr/local/lib/python3.8/dist-packages (from scikit-learn) (1.7.3)\n"
          ]
        }
      ],
      "source": [
        "%pip install scikit-learn"
      ]
    },
    {
      "cell_type": "code",
      "execution_count": 99,
      "metadata": {
        "id": "4aF3QS7n5XQO"
      },
      "outputs": [],
      "source": [
        "from sklearn.metrics import ndcg_score\n"
      ]
    },
    {
      "cell_type": "markdown",
      "metadata": {
        "id": "EPgxet8bGDH0"
      },
      "source": [
        "추천에서는 성능 지표로 precision@k 를 많이 사용하고 \n",
        "\n",
        "Precision@5 = 0.05 (test) 는 순위로 rank 가 된 게임 중 (k=) 5번째 내에 관심 있을 게임이 나올 정확도가 평균 5% 라는 것입니다. 수치가 매우 낮아보이지만, user/content 수가 많은 real 환경에서 5%를 넘기는 어렵다.\n",
        "​\n",
        "\n",
        "AUC는 모델의 전체 적인 성능을 나타내는 지표이다.\n",
        "\n",
        "​"
      ]
    },
    {
      "cell_type": "markdown",
      "metadata": {
        "id": "QkPzIbTEFcbY"
      },
      "source": [
        "\n",
        "\n",
        "> ## Predict score & Recommend games \n",
        "\n"
      ]
    },
    {
      "cell_type": "markdown",
      "metadata": {
        "id": "6eEW13Z-UC6k"
      },
      "source": []
    },
    {
      "cell_type": "code",
      "execution_count": null,
      "metadata": {
        "id": "JcHghgJ94lOy"
      },
      "outputs": [],
      "source": [
        "labels = items[['appid']]"
      ]
    },
    {
      "cell_type": "code",
      "execution_count": null,
      "metadata": {
        "id": "m6akcuXJFkr5"
      },
      "outputs": [],
      "source": [
        "def recommendation(model, data, to_recommend): # 인자: model, interactions, to_recommend\n",
        "\n",
        "    n_users, n_items = data.shape\n",
        "\n",
        "    scores = model.predict(to_recommend, np.arange(n_items)) \n",
        "    labels['scores'] = scores.tolist()\n",
        "    labels.sort_values(by = ['scores'], ascending = False,inplace = True)\n",
        "    \n",
        "    return labels"
      ]
    },
    {
      "cell_type": "markdown",
      "metadata": {
        "id": "j2XjGZJWMA0A"
      },
      "source": [
        "\n",
        "\n",
        "*   group에 author id를 입력하면 모든 games 의 예측 평점을 계산하고\n",
        "ex) user 1 -> group = [0], user 2 = group = [1] \n",
        "*   list_no에 원하는 게임 수를 입력하면 높은순으로 games(id:score)를 리턴합니다."
      ]
    },
    {
      "cell_type": "code",
      "execution_count": null,
      "metadata": {
        "colab": {
          "base_uri": "https://localhost:8080/"
        },
        "id": "S9KLO-4m2vSz",
        "outputId": "48cd5912-297e-4112-acb4-725f7a21867a"
      },
      "outputs": [
        {
          "name": "stdout",
          "output_type": "stream",
          "text": [
            "유저 입력: 76561198905733625\n"
          ]
        }
      ],
      "source": [
        "author = str(input('유저 입력: '))\n",
        "\n",
        "idx = int(users.loc[users['author']== author].index[0]) # predict의 첫번째 인자가 user의 index이므로 변환"
      ]
    },
    {
      "cell_type": "code",
      "execution_count": null,
      "metadata": {
        "colab": {
          "base_uri": "https://localhost:8080/"
        },
        "id": "lKzS3u3VKS-h",
        "outputId": "62df08df-d8f2-4ede-b753-d8c1caed09f5"
      },
      "outputs": [
        {
          "output_type": "stream",
          "name": "stdout",
          "text": [
            "name: Garry's Mod   score: 4.88\n",
            "name: Counter-Strike   score: 4.621\n",
            "name: Counter-Strike: Source   score: 4.589\n",
            "name: Grand Theft Auto: San Andreas   score: 4.459\n",
            "name: Counter-Strike: Global Offensive   score: 4.308\n"
          ]
        }
      ],
      "source": [
        "list_no = 5 # 임의로 5개 추천\n",
        "\n",
        "top_items = recommendation(model, interactions, idx)\n",
        "\n",
        "for x in range(list_no):\n",
        "  print('name:', games.loc[games['steam_appid'] == top_items.iloc[x][0]].iloc[0][1], '  score:', round(top_items.iloc[x][1], 3)) # 소수점 넷째자리에서 반올림"
      ]
    },
    {
      "cell_type": "code",
      "execution_count": null,
      "metadata": {
        "id": "M7dN7Y1YExdX"
      },
      "outputs": [],
      "source": [
        "# ndcg 점수 평가"
      ]
    },
    {
      "cell_type": "code",
      "source": [
        "score_data['author'] = score_data['author'].astype('str')"
      ],
      "metadata": {
        "id": "503vTfxQxNm5"
      },
      "execution_count": 31,
      "outputs": []
    },
    {
      "cell_type": "code",
      "source": [
        "score_data.drop_duplicates(inplace = True)"
      ],
      "metadata": {
        "colab": {
          "base_uri": "https://localhost:8080/",
          "height": 424
        },
        "id": "1v5PKb5Oxl2g",
        "outputId": "9ef8a4de-4343-4e2f-d2d1-b82f6ae1eadb"
      },
      "execution_count": 34,
      "outputs": [
        {
          "output_type": "execute_result",
          "data": {
            "text/plain": [
              "          Unnamed: 0             author   appid  playtime_forever  \\\n",
              "0                  0  76561198976638577      10             104.0   \n",
              "1                  1  76561198391972225      10             426.0   \n",
              "2                  2  76561198414408167      10             386.0   \n",
              "3                  3  76561198376936422      10             165.0   \n",
              "4                  4  76561198905733625      10              28.0   \n",
              "...              ...                ...     ...               ...   \n",
              "13829027    13829027  76561198284162593  999660              21.0   \n",
              "13829028    13829028  76561198348027001  999660             291.0   \n",
              "13829029    13829029  76561198250100526  999660             117.0   \n",
              "13829030    13829030  76561198847043627  999660             606.0   \n",
              "13829031    13829031  76561199082345747  999660              65.0   \n",
              "\n",
              "          playtime_at_review  voted_up  votes_up  time_stamp    scores  \n",
              "0                         10      True         0  1625569181  4.155640  \n",
              "1                        426      True         1  1625568709  4.178311  \n",
              "2                        199      True         0  1625534268  4.175495  \n",
              "3                        184      True         0  1625532886  4.159935  \n",
              "4                         40      True         0  1625525994  4.150289  \n",
              "...                      ...       ...       ...         ...       ...  \n",
              "13829027                  21     False         4  1623952510 -1.850732  \n",
              "13829028                 200      True         0  1623916123  3.547597  \n",
              "13829029                  27      True         0  1623863068  2.454061  \n",
              "13829030                  99      True         2  1623855792  5.527272  \n",
              "13829031                  31      True         1  1623820475  2.127258  \n",
              "\n",
              "[13829032 rows x 9 columns]"
            ],
            "text/html": [
              "\n",
              "  <div id=\"df-0ba963e5-db2b-4be7-9b32-5d632e5091df\">\n",
              "    <div class=\"colab-df-container\">\n",
              "      <div>\n",
              "<style scoped>\n",
              "    .dataframe tbody tr th:only-of-type {\n",
              "        vertical-align: middle;\n",
              "    }\n",
              "\n",
              "    .dataframe tbody tr th {\n",
              "        vertical-align: top;\n",
              "    }\n",
              "\n",
              "    .dataframe thead th {\n",
              "        text-align: right;\n",
              "    }\n",
              "</style>\n",
              "<table border=\"1\" class=\"dataframe\">\n",
              "  <thead>\n",
              "    <tr style=\"text-align: right;\">\n",
              "      <th></th>\n",
              "      <th>Unnamed: 0</th>\n",
              "      <th>author</th>\n",
              "      <th>appid</th>\n",
              "      <th>playtime_forever</th>\n",
              "      <th>playtime_at_review</th>\n",
              "      <th>voted_up</th>\n",
              "      <th>votes_up</th>\n",
              "      <th>time_stamp</th>\n",
              "      <th>scores</th>\n",
              "    </tr>\n",
              "  </thead>\n",
              "  <tbody>\n",
              "    <tr>\n",
              "      <th>0</th>\n",
              "      <td>0</td>\n",
              "      <td>76561198976638577</td>\n",
              "      <td>10</td>\n",
              "      <td>104.0</td>\n",
              "      <td>10</td>\n",
              "      <td>True</td>\n",
              "      <td>0</td>\n",
              "      <td>1625569181</td>\n",
              "      <td>4.155640</td>\n",
              "    </tr>\n",
              "    <tr>\n",
              "      <th>1</th>\n",
              "      <td>1</td>\n",
              "      <td>76561198391972225</td>\n",
              "      <td>10</td>\n",
              "      <td>426.0</td>\n",
              "      <td>426</td>\n",
              "      <td>True</td>\n",
              "      <td>1</td>\n",
              "      <td>1625568709</td>\n",
              "      <td>4.178311</td>\n",
              "    </tr>\n",
              "    <tr>\n",
              "      <th>2</th>\n",
              "      <td>2</td>\n",
              "      <td>76561198414408167</td>\n",
              "      <td>10</td>\n",
              "      <td>386.0</td>\n",
              "      <td>199</td>\n",
              "      <td>True</td>\n",
              "      <td>0</td>\n",
              "      <td>1625534268</td>\n",
              "      <td>4.175495</td>\n",
              "    </tr>\n",
              "    <tr>\n",
              "      <th>3</th>\n",
              "      <td>3</td>\n",
              "      <td>76561198376936422</td>\n",
              "      <td>10</td>\n",
              "      <td>165.0</td>\n",
              "      <td>184</td>\n",
              "      <td>True</td>\n",
              "      <td>0</td>\n",
              "      <td>1625532886</td>\n",
              "      <td>4.159935</td>\n",
              "    </tr>\n",
              "    <tr>\n",
              "      <th>4</th>\n",
              "      <td>4</td>\n",
              "      <td>76561198905733625</td>\n",
              "      <td>10</td>\n",
              "      <td>28.0</td>\n",
              "      <td>40</td>\n",
              "      <td>True</td>\n",
              "      <td>0</td>\n",
              "      <td>1625525994</td>\n",
              "      <td>4.150289</td>\n",
              "    </tr>\n",
              "    <tr>\n",
              "      <th>...</th>\n",
              "      <td>...</td>\n",
              "      <td>...</td>\n",
              "      <td>...</td>\n",
              "      <td>...</td>\n",
              "      <td>...</td>\n",
              "      <td>...</td>\n",
              "      <td>...</td>\n",
              "      <td>...</td>\n",
              "      <td>...</td>\n",
              "    </tr>\n",
              "    <tr>\n",
              "      <th>13829027</th>\n",
              "      <td>13829027</td>\n",
              "      <td>76561198284162593</td>\n",
              "      <td>999660</td>\n",
              "      <td>21.0</td>\n",
              "      <td>21</td>\n",
              "      <td>False</td>\n",
              "      <td>4</td>\n",
              "      <td>1623952510</td>\n",
              "      <td>-1.850732</td>\n",
              "    </tr>\n",
              "    <tr>\n",
              "      <th>13829028</th>\n",
              "      <td>13829028</td>\n",
              "      <td>76561198348027001</td>\n",
              "      <td>999660</td>\n",
              "      <td>291.0</td>\n",
              "      <td>200</td>\n",
              "      <td>True</td>\n",
              "      <td>0</td>\n",
              "      <td>1623916123</td>\n",
              "      <td>3.547597</td>\n",
              "    </tr>\n",
              "    <tr>\n",
              "      <th>13829029</th>\n",
              "      <td>13829029</td>\n",
              "      <td>76561198250100526</td>\n",
              "      <td>999660</td>\n",
              "      <td>117.0</td>\n",
              "      <td>27</td>\n",
              "      <td>True</td>\n",
              "      <td>0</td>\n",
              "      <td>1623863068</td>\n",
              "      <td>2.454061</td>\n",
              "    </tr>\n",
              "    <tr>\n",
              "      <th>13829030</th>\n",
              "      <td>13829030</td>\n",
              "      <td>76561198847043627</td>\n",
              "      <td>999660</td>\n",
              "      <td>606.0</td>\n",
              "      <td>99</td>\n",
              "      <td>True</td>\n",
              "      <td>2</td>\n",
              "      <td>1623855792</td>\n",
              "      <td>5.527272</td>\n",
              "    </tr>\n",
              "    <tr>\n",
              "      <th>13829031</th>\n",
              "      <td>13829031</td>\n",
              "      <td>76561199082345747</td>\n",
              "      <td>999660</td>\n",
              "      <td>65.0</td>\n",
              "      <td>31</td>\n",
              "      <td>True</td>\n",
              "      <td>1</td>\n",
              "      <td>1623820475</td>\n",
              "      <td>2.127258</td>\n",
              "    </tr>\n",
              "  </tbody>\n",
              "</table>\n",
              "<p>13829032 rows × 9 columns</p>\n",
              "</div>\n",
              "      <button class=\"colab-df-convert\" onclick=\"convertToInteractive('df-0ba963e5-db2b-4be7-9b32-5d632e5091df')\"\n",
              "              title=\"Convert this dataframe to an interactive table.\"\n",
              "              style=\"display:none;\">\n",
              "        \n",
              "  <svg xmlns=\"http://www.w3.org/2000/svg\" height=\"24px\"viewBox=\"0 0 24 24\"\n",
              "       width=\"24px\">\n",
              "    <path d=\"M0 0h24v24H0V0z\" fill=\"none\"/>\n",
              "    <path d=\"M18.56 5.44l.94 2.06.94-2.06 2.06-.94-2.06-.94-.94-2.06-.94 2.06-2.06.94zm-11 1L8.5 8.5l.94-2.06 2.06-.94-2.06-.94L8.5 2.5l-.94 2.06-2.06.94zm10 10l.94 2.06.94-2.06 2.06-.94-2.06-.94-.94-2.06-.94 2.06-2.06.94z\"/><path d=\"M17.41 7.96l-1.37-1.37c-.4-.4-.92-.59-1.43-.59-.52 0-1.04.2-1.43.59L10.3 9.45l-7.72 7.72c-.78.78-.78 2.05 0 2.83L4 21.41c.39.39.9.59 1.41.59.51 0 1.02-.2 1.41-.59l7.78-7.78 2.81-2.81c.8-.78.8-2.07 0-2.86zM5.41 20L4 18.59l7.72-7.72 1.47 1.35L5.41 20z\"/>\n",
              "  </svg>\n",
              "      </button>\n",
              "      \n",
              "  <style>\n",
              "    .colab-df-container {\n",
              "      display:flex;\n",
              "      flex-wrap:wrap;\n",
              "      gap: 12px;\n",
              "    }\n",
              "\n",
              "    .colab-df-convert {\n",
              "      background-color: #E8F0FE;\n",
              "      border: none;\n",
              "      border-radius: 50%;\n",
              "      cursor: pointer;\n",
              "      display: none;\n",
              "      fill: #1967D2;\n",
              "      height: 32px;\n",
              "      padding: 0 0 0 0;\n",
              "      width: 32px;\n",
              "    }\n",
              "\n",
              "    .colab-df-convert:hover {\n",
              "      background-color: #E2EBFA;\n",
              "      box-shadow: 0px 1px 2px rgba(60, 64, 67, 0.3), 0px 1px 3px 1px rgba(60, 64, 67, 0.15);\n",
              "      fill: #174EA6;\n",
              "    }\n",
              "\n",
              "    [theme=dark] .colab-df-convert {\n",
              "      background-color: #3B4455;\n",
              "      fill: #D2E3FC;\n",
              "    }\n",
              "\n",
              "    [theme=dark] .colab-df-convert:hover {\n",
              "      background-color: #434B5C;\n",
              "      box-shadow: 0px 1px 3px 1px rgba(0, 0, 0, 0.15);\n",
              "      filter: drop-shadow(0px 1px 2px rgba(0, 0, 0, 0.3));\n",
              "      fill: #FFFFFF;\n",
              "    }\n",
              "  </style>\n",
              "\n",
              "      <script>\n",
              "        const buttonEl =\n",
              "          document.querySelector('#df-0ba963e5-db2b-4be7-9b32-5d632e5091df button.colab-df-convert');\n",
              "        buttonEl.style.display =\n",
              "          google.colab.kernel.accessAllowed ? 'block' : 'none';\n",
              "\n",
              "        async function convertToInteractive(key) {\n",
              "          const element = document.querySelector('#df-0ba963e5-db2b-4be7-9b32-5d632e5091df');\n",
              "          const dataTable =\n",
              "            await google.colab.kernel.invokeFunction('convertToInteractive',\n",
              "                                                     [key], {});\n",
              "          if (!dataTable) return;\n",
              "\n",
              "          const docLinkHtml = 'Like what you see? Visit the ' +\n",
              "            '<a target=\"_blank\" href=https://colab.research.google.com/notebooks/data_table.ipynb>data table notebook</a>'\n",
              "            + ' to learn more about interactive tables.';\n",
              "          element.innerHTML = '';\n",
              "          dataTable['output_type'] = 'display_data';\n",
              "          await google.colab.output.renderOutput(dataTable, element);\n",
              "          const docLink = document.createElement('div');\n",
              "          docLink.innerHTML = docLinkHtml;\n",
              "          element.appendChild(docLink);\n",
              "        }\n",
              "      </script>\n",
              "    </div>\n",
              "  </div>\n",
              "  "
            ]
          },
          "metadata": {},
          "execution_count": 34
        }
      ]
    },
    {
      "cell_type": "code",
      "source": [
        "items.reset_index(inplace = True)"
      ],
      "metadata": {
        "id": "D9FBz_rMynmM"
      },
      "execution_count": 56,
      "outputs": []
    },
    {
      "cell_type": "code",
      "execution_count": 201,
      "metadata": {
        "id": "N2Z_RBpZKQR_"
      },
      "outputs": [],
      "source": [
        "n_users = 100 # interactions.shape[0]에서 세션 다운(램에 제한 존재) 문제 때문에 임의로 100개 유저 기준으로 테스트\n",
        "k = 5\n",
        "ndcg_s = []\n",
        "\n",
        "for i in range(n_users):\n",
        "  user = users.iloc[i][0]\n",
        "  appid_for_top_k = score_data.loc[score_data['author'] == user].sort_values('scores', ascending = False)['appid'][:k] # user의 score_data가 존재하는 앱 추출\n",
        "  n_items = []\n",
        "  for j in appid_for_top_k:\n",
        "    n_items.append(items.loc[items['appid'] == j].index[0])\n",
        "  \n",
        "  # scores_by_recsys, scores_by_true의 범위가 다르므로 정규화 진행\n",
        "  scores_by_recsys = np.reshape(model.predict(i, np.asarray(n_items, dtype = np.int32)), (-1, k))\n",
        "  scores_by_true = np.reshape(np.asarray(score_data.loc[score_data['author'] == user].sort_values('scores', ascending = False)['scores'][:k], dtype = np.float32),  (-1, k))\n",
        "\n",
        "  norms_by_recsys = np.linalg.norm(scores_by_recsys)\n",
        "  norms_by_true = np.linalg.norm(scores_by_true)\n",
        "\n",
        "  scores_by_recsys = scores_by_recsys / norms_by_recsys\n",
        "  scores_by_true = scores_by_true / norms_by_true\n",
        "  \n",
        "  ndcg_s.append(ndcg_score(scores_by_true, scores_by_recsys))"
      ]
    },
    {
      "cell_type": "code",
      "source": [
        "ndcg_s = sum(ndcg_s) / n_users"
      ],
      "metadata": {
        "id": "pvhqzfmw6tZ5"
      },
      "execution_count": 202,
      "outputs": []
    },
    {
      "cell_type": "code",
      "source": [
        "ndcg_s"
      ],
      "metadata": {
        "colab": {
          "base_uri": "https://localhost:8080/"
        },
        "id": "1XOK7hHh64R5",
        "outputId": "9a889098-3bd6-40ce-fc77-b1b94ba12114"
      },
      "execution_count": 203,
      "outputs": [
        {
          "output_type": "execute_result",
          "data": {
            "text/plain": [
              "0.96064891001017"
            ]
          },
          "metadata": {},
          "execution_count": 203
        }
      ]
    }
  ],
  "metadata": {
    "accelerator": "GPU",
    "colab": {
      "provenance": []
    },
    "gpuClass": "standard",
    "kernelspec": {
      "display_name": "Python 3",
      "name": "python3"
    },
    "language_info": {
      "name": "python"
    }
  },
  "nbformat": 4,
  "nbformat_minor": 0
}