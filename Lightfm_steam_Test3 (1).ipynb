{
  "cells": [
    {
      "cell_type": "code",
      "execution_count": 30,
      "metadata": {
        "colab": {
          "base_uri": "https://localhost:8080/"
        },
        "id": "RE8TMnlACRRA",
        "outputId": "790e0283-045c-4dda-d13f-961b5f88f101"
      },
      "outputs": [
        {
          "output_type": "stream",
          "name": "stdout",
          "text": [
            "Looking in indexes: https://pypi.org/simple, https://us-python.pkg.dev/colab-wheels/public/simple/\n",
            "Requirement already satisfied: lightfm in /usr/local/lib/python3.8/dist-packages (1.16)\n",
            "Requirement already satisfied: scikit-learn in /usr/local/lib/python3.8/dist-packages (from lightfm) (1.0.2)\n",
            "Requirement already satisfied: numpy in /usr/local/lib/python3.8/dist-packages (from lightfm) (1.21.6)\n",
            "Requirement already satisfied: scipy>=0.17.0 in /usr/local/lib/python3.8/dist-packages (from lightfm) (1.7.3)\n",
            "Requirement already satisfied: requests in /usr/local/lib/python3.8/dist-packages (from lightfm) (2.23.0)\n",
            "Requirement already satisfied: idna<3,>=2.5 in /usr/local/lib/python3.8/dist-packages (from requests->lightfm) (2.10)\n",
            "Requirement already satisfied: certifi>=2017.4.17 in /usr/local/lib/python3.8/dist-packages (from requests->lightfm) (2022.9.24)\n",
            "Requirement already satisfied: chardet<4,>=3.0.2 in /usr/local/lib/python3.8/dist-packages (from requests->lightfm) (3.0.4)\n",
            "Requirement already satisfied: urllib3!=1.25.0,!=1.25.1,<1.26,>=1.21.1 in /usr/local/lib/python3.8/dist-packages (from requests->lightfm) (1.24.3)\n",
            "Requirement already satisfied: threadpoolctl>=2.0.0 in /usr/local/lib/python3.8/dist-packages (from scikit-learn->lightfm) (3.1.0)\n",
            "Requirement already satisfied: joblib>=0.11 in /usr/local/lib/python3.8/dist-packages (from scikit-learn->lightfm) (1.2.0)\n"
          ]
        }
      ],
      "source": [
        "%pip install lightfm"
      ]
    },
    {
      "cell_type": "code",
      "execution_count": 4,
      "metadata": {
        "id": "jYQyDmT9Cj6I"
      },
      "outputs": [],
      "source": [
        "import time\n",
        "import os\n",
        "import zipfile\n",
        "import csv\n",
        "import requests\n",
        "import json\n",
        "from itertools import islice\n",
        "\n",
        "import matplotlib\n",
        "import matplotlib.pyplot as plt\n",
        "import numpy as np\n",
        "import pandas as pd\n",
        "\n",
        "from lightfm.data import Dataset\n",
        "from lightfm import LightFM\n",
        "from lightfm.evaluation import precision_at_k\n",
        "from lightfm.evaluation import auc_score\n",
        "from lightfm.cross_validation import random_train_test_split \n",
        "\n",
        "from scipy.sparse import coo_matrix as sp\n",
        "\n",
        "import warnings # warings 제거\n",
        "warnings.filterwarnings(action='ignore')"
      ]
    },
    {
      "cell_type": "code",
      "execution_count": 5,
      "metadata": {
        "colab": {
          "base_uri": "https://localhost:8080/"
        },
        "id": "uYergncVqt3Q",
        "outputId": "5722f708-ab1c-4162-ef28-d2b1f690b08c"
      },
      "outputs": [
        {
          "output_type": "stream",
          "name": "stdout",
          "text": [
            "Drive already mounted at /content/drive; to attempt to forcibly remount, call drive.mount(\"/content/drive\", force_remount=True).\n"
          ]
        }
      ],
      "source": [
        "from google.colab import drive\n",
        "drive.mount('/content/drive')"
      ]
    },
    {
      "cell_type": "code",
      "execution_count": null,
      "metadata": {
        "id": "SShp9Ui281RB"
      },
      "outputs": [],
      "source": [
        "# 초기설정시 기본 환경설정"
      ]
    },
    {
      "cell_type": "code",
      "execution_count": null,
      "metadata": {
        "id": "44F9BzpasZ8P",
        "colab": {
          "base_uri": "https://localhost:8080/"
        },
        "outputId": "3bb0661a-d803-49bd-b892-e5387909bbba"
      },
      "outputs": [
        {
          "output_type": "stream",
          "name": "stdout",
          "text": [
            "[Errno 2] No such file or directory: 'drive/MyDrive'\n",
            "/content\n"
          ]
        }
      ],
      "source": [
        "%cd drive/MyDrive"
      ]
    },
    {
      "cell_type": "code",
      "execution_count": null,
      "metadata": {
        "id": "9W-92m4CscgO"
      },
      "outputs": [],
      "source": [
        "%mkdir steam "
      ]
    },
    {
      "cell_type": "code",
      "execution_count": null,
      "metadata": {
        "colab": {
          "base_uri": "https://localhost:8080/"
        },
        "id": "VSzoyIsffdaT",
        "outputId": "4dacd0dc-d02c-4d17-fdd0-d9565dd3e24c"
      },
      "outputs": [
        {
          "name": "stdout",
          "output_type": "stream",
          "text": [
            "/content/drive/MyDrive/steam\n"
          ]
        }
      ],
      "source": [
        "%cd steam"
      ]
    },
    {
      "cell_type": "code",
      "execution_count": null,
      "metadata": {
        "colab": {
          "base_uri": "https://localhost:8080/"
        },
        "id": "524pABduMsr4",
        "outputId": "7e600193-5b17-488e-bbdf-de97da9fb838"
      },
      "outputs": [
        {
          "name": "stdout",
          "output_type": "stream",
          "text": [
            "Archive:  steam.zip\n",
            "  inflating: parsed_data.csv         \n",
            "  inflating: parsed_data_only_games.csv  \n",
            "  inflating: parsed_data_overten.csv  \n",
            "  inflating: steam_store_data.json   \n",
            "  inflating: Steam_store_data.pptx   \n",
            "  inflating: ~$Steam_store_data.pptx  \n"
          ]
        }
      ],
      "source": [
        "!unzip 'steam.zip' "
      ]
    },
    {
      "cell_type": "code",
      "execution_count": null,
      "metadata": {
        "id": "vzppXuMp83kS"
      },
      "outputs": [],
      "source": [
        "# 데이터 로드 (type : dataframe)"
      ]
    },
    {
      "cell_type": "code",
      "execution_count": 21,
      "metadata": {
        "id": "5iidZxVGqcIN"
      },
      "outputs": [],
      "source": [
        "with open('/content/drive/MyDrive/steam/steam_store_data.json', 'r') as game_data:\n",
        "    game_data = pd.read_json(game_data)"
      ]
    },
    {
      "cell_type": "code",
      "execution_count": 22,
      "metadata": {
        "id": "PHx68bSAqpxr"
      },
      "outputs": [],
      "source": [
        "with open('/content/drive/MyDrive/steam/parsed_data_overten_reset.csv', 'r') as review_data:\n",
        "    review_data = pd.read_csv(review_data)"
      ]
    },
    {
      "cell_type": "code",
      "source": [
        "with open('/content/drive/MyDrive/steam/score_data_overten_pos_neg.csv', 'r') as score_data: # ndcg\n",
        "    score_data = pd.read_csv(score_data)"
      ],
      "metadata": {
        "id": "PfLX1vn7ROOh"
      },
      "execution_count": null,
      "outputs": []
    },
    {
      "cell_type": "markdown",
      "metadata": {
        "id": "ffLY-6j7_r_H"
      },
      "source": [
        "# 1. Data structure and embedding\n"
      ]
    },
    {
      "cell_type": "markdown",
      "metadata": {
        "id": "9CetHZdUFAZW"
      },
      "source": [
        "\n",
        "\n",
        "> ## Data loading, preprocessing\n",
        "\n",
        "\n"
      ]
    },
    {
      "cell_type": "markdown",
      "metadata": {
        "id": "6iihYyI-Df-u"
      },
      "source": [
        "**user_features** : user의 특성(예시: 성별, 지역, 선호유형)\n",
        "\n",
        "**item_features**: item의 특성(예시: 제목, 가격, 장르, 국가, 게시 시간)\n",
        "\n",
        "**interactions** : user-item간의 data(평점)"
      ]
    },
    {
      "cell_type": "markdown",
      "metadata": {
        "id": "vcRAvXHXnt4T"
      },
      "source": [
        "> ## 데이터프레임 형태 변형 및 확인"
      ]
    },
    {
      "cell_type": "code",
      "execution_count": 23,
      "metadata": {
        "id": "82TWJeolnqj4"
      },
      "outputs": [],
      "source": [
        "game_data = game_data.transpose() # 행렬 뒤집기"
      ]
    },
    {
      "cell_type": "markdown",
      "metadata": {
        "id": "63C0nX3PBZvF"
      },
      "source": []
    },
    {
      "cell_type": "code",
      "execution_count": 24,
      "metadata": {
        "id": "4Y0Rf7A2tN_y"
      },
      "outputs": [],
      "source": [
        "game_data = game_data[['steam_appid', 'name']] \n",
        "review_data = review_data[['author', 'appid', 'playtime_forever', 'playtime_at_review', 'voted_up', 'votes_up']] "
      ]
    },
    {
      "cell_type": "code",
      "execution_count": 25,
      "metadata": {
        "id": "-_YVmtgCC78a"
      },
      "outputs": [],
      "source": [
        "# 변수명 명시적으로 변경함\n",
        "\n",
        "ratings = review_data \n",
        "games = game_data "
      ]
    },
    {
      "cell_type": "code",
      "execution_count": 26,
      "metadata": {
        "id": "rBCMYSgDpHpr"
      },
      "outputs": [],
      "source": [
        "ratings['author'] = ratings['author'].astype('str') # ratings['author']의 타입이 numpy.int64 이므로 str로 변환"
      ]
    },
    {
      "cell_type": "markdown",
      "metadata": {
        "id": "j4ek910CAk3h"
      },
      "source": [
        "\n",
        "\n",
        "> ## Data embedding\n",
        "위의 데이터를 embedding dataset으로 build\n",
        "\n"
      ]
    },
    {
      "cell_type": "code",
      "execution_count": null,
      "metadata": {
        "id": "Q4KgMDdImEcD"
      },
      "outputs": [],
      "source": [
        "# 데이터프레임 중복 확인"
      ]
    },
    {
      "cell_type": "code",
      "source": [
        "users = ratings[['author']]\n",
        "users.drop_duplicates(inplace = True)"
      ],
      "metadata": {
        "id": "G2F_OrnfxwYj"
      },
      "execution_count": 27,
      "outputs": []
    },
    {
      "cell_type": "code",
      "source": [
        "users.shape[0]"
      ],
      "metadata": {
        "colab": {
          "base_uri": "https://localhost:8080/"
        },
        "id": "iiZZatskx54x",
        "outputId": "d74474bf-94e3-43c3-c371-6dc277dec57c"
      },
      "execution_count": 100,
      "outputs": [
        {
          "output_type": "execute_result",
          "data": {
            "text/plain": [
              "746243"
            ]
          },
          "metadata": {},
          "execution_count": 100
        }
      ]
    },
    {
      "cell_type": "code",
      "execution_count": 28,
      "metadata": {
        "id": "xL3zNgcX-ljt"
      },
      "outputs": [],
      "source": [
        "ratings.drop_duplicates(inplace = True) # 14916136 -> 13828950로 중복 행 제거"
      ]
    },
    {
      "cell_type": "code",
      "source": [
        "items = ratings[['appid']]\n",
        "items.drop_duplicates(inplace = True)"
      ],
      "metadata": {
        "id": "ALAnZe8DyBjY"
      },
      "execution_count": 29,
      "outputs": []
    },
    {
      "cell_type": "code",
      "source": [
        "items.shape[0] # 총 게임 개수는 51927인데 반해 리뷰에 있는 게임 개수는 11566(따라서 interactions의 item 개수는 11566)"
      ],
      "metadata": {
        "colab": {
          "base_uri": "https://localhost:8080/"
        },
        "id": "ry2eo-25yKRx",
        "outputId": "8a8729ff-26cf-45e7-e4a0-2cd4ae1f923f"
      },
      "execution_count": 104,
      "outputs": [
        {
          "output_type": "execute_result",
          "data": {
            "text/plain": [
              "11566"
            ]
          },
          "metadata": {},
          "execution_count": 104
        }
      ]
    },
    {
      "cell_type": "code",
      "execution_count": 31,
      "metadata": {
        "id": "KItRQP65_obp"
      },
      "outputs": [],
      "source": [
        "games.drop_duplicates(inplace = True) # 51936 -> 51927로 중복 행 제거"
      ]
    },
    {
      "cell_type": "code",
      "execution_count": null,
      "metadata": {
        "id": "WpC_kCyEmIaV"
      },
      "outputs": [],
      "source": [
        "# user-item 사이의 interactions matrix 생성"
      ]
    },
    {
      "cell_type": "code",
      "execution_count": 33,
      "metadata": {
        "id": "mSaIYIDEu_aD"
      },
      "outputs": [],
      "source": [
        "uf = []\n",
        "\n",
        "playtime_forever = ratings[['playtime_forever']]\n",
        "playtime_forever.drop_duplicates(inplace = True)\n",
        "\n",
        "for i in range(playtime_forever.shape[0]):\n",
        "  uf.append('playtime_forever:{0}'.format(playtime_forever.iloc[i][0]))"
      ]
    },
    {
      "cell_type": "code",
      "execution_count": 34,
      "metadata": {
        "id": "r9z0xxkQ-GBX"
      },
      "outputs": [],
      "source": [
        "dataset = Dataset()\n",
        "dataset.fit(users=users['author'], items=items['appid'],user_features = uf)"
      ]
    },
    {
      "cell_type": "code",
      "execution_count": 35,
      "metadata": {
        "id": "5s_97Hu7l2JN"
      },
      "outputs": [],
      "source": [
        "ratings_source = ratings[['author', 'appid']]\n",
        "ratings_source.drop_duplicates(inplace = True)\n",
        "ratings_source = ratings_source.values.tolist()"
      ]
    },
    {
      "cell_type": "code",
      "execution_count": 36,
      "metadata": {
        "id": "U06DiADXajbG"
      },
      "outputs": [],
      "source": [
        "interactions, weights = dataset.build_interactions(ratings_source)"
      ]
    },
    {
      "cell_type": "code",
      "execution_count": null,
      "metadata": {
        "id": "R3zzWYmzmMVy"
      },
      "outputs": [],
      "source": [
        "# user_features 빌드"
      ]
    },
    {
      "cell_type": "code",
      "execution_count": 38,
      "metadata": {
        "id": "XGkEFClvol6x"
      },
      "outputs": [],
      "source": [
        "user_features_source = ratings[['author', 'playtime_forever']]\n",
        "user_features_source.drop_duplicates(inplace = True)"
      ]
    },
    {
      "cell_type": "code",
      "execution_count": 39,
      "metadata": {
        "id": "bc7qDZmRQzuY"
      },
      "outputs": [],
      "source": [
        "user_features_source = user_features_source[['author', 'playtime_forever']].values.tolist()"
      ]
    },
    {
      "cell_type": "code",
      "execution_count": 40,
      "metadata": {
        "id": "hoP4lkg2qfUm"
      },
      "outputs": [],
      "source": [
        "user_features_source = [[i[0], ['playtime_forever:{0}'.format(i[1])]] for i in user_features_source]"
      ]
    },
    {
      "cell_type": "code",
      "execution_count": 41,
      "metadata": {
        "id": "63ObcUevJtVo"
      },
      "outputs": [],
      "source": [
        "user_features=dataset.build_user_features(user_features_source)"
      ]
    },
    {
      "cell_type": "markdown",
      "metadata": {
        "id": "q3hAoSP_CgGB"
      },
      "source": [
        "# 2. LightFM Model Function"
      ]
    },
    {
      "cell_type": "markdown",
      "metadata": {
        "id": "rjJ4FlflE6jc"
      },
      "source": [
        "\n",
        "\n",
        "> ## Model fit, optimize\n",
        "\n"
      ]
    },
    {
      "cell_type": "markdown",
      "metadata": {
        "id": "a8eSWzM0FuZn"
      },
      "source": [
        "loss function 으로  WARP ,  정확도는 precision@k 를 사용하여 evalutation 을 해준다."
      ]
    },
    {
      "cell_type": "code",
      "execution_count": null,
      "metadata": {
        "id": "sbH0VQskF-XK"
      },
      "outputs": [],
      "source": [
        "# 모델 생성 및 학습시킴"
      ]
    },
    {
      "cell_type": "code",
      "execution_count": 42,
      "metadata": {
        "colab": {
          "base_uri": "https://localhost:8080/"
        },
        "id": "eKjxwd0881Dr",
        "outputId": "9a8db3cf-8bab-4c35-8254-65d1d0ae5e99"
      },
      "outputs": [
        {
          "output_type": "execute_result",
          "data": {
            "text/plain": [
              "<lightfm.lightfm.LightFM at 0x7fe64b39b1f0>"
            ]
          },
          "metadata": {},
          "execution_count": 42
        }
      ],
      "source": [
        "model = LightFM(loss='warp') \n",
        "train, test = random_train_test_split(interactions=interactions, test_percentage=0.25) # test_percentage 0.2 -> 0.25\n",
        "model.fit(train, item_features=None, user_features=user_features, epochs = 10, num_threads = 4) # 에포크 2회 -> 10회"
      ]
    },
    {
      "cell_type": "code",
      "execution_count": null,
      "metadata": {
        "id": "KNUzAg7GGDQF"
      },
      "outputs": [],
      "source": [
        "# precision at k 방식으로 평가"
      ]
    },
    {
      "cell_type": "code",
      "execution_count": null,
      "metadata": {
        "colab": {
          "base_uri": "https://localhost:8080/",
          "height": 323
        },
        "id": "QC1kBeSj1OqG",
        "outputId": "8ebfc3ab-e3a9-4c3c-96d1-da333e2647ed"
      },
      "outputs": [
        {
          "ename": "KeyboardInterrupt",
          "evalue": "ignored",
          "output_type": "error",
          "traceback": [
            "\u001b[0;31m---------------------------------------------------------------------------\u001b[0m",
            "\u001b[0;31mKeyboardInterrupt\u001b[0m                         Traceback (most recent call last)",
            "\u001b[0;32m<ipython-input-41-5c9e4d13b037>\u001b[0m in \u001b[0;36m<module>\u001b[0;34m\u001b[0m\n\u001b[0;32m----> 1\u001b[0;31m \u001b[0mtrain_precision\u001b[0m \u001b[0;34m=\u001b[0m \u001b[0mprecision_at_k\u001b[0m\u001b[0;34m(\u001b[0m\u001b[0mmodel\u001b[0m\u001b[0;34m,\u001b[0m \u001b[0mtrain\u001b[0m\u001b[0;34m,\u001b[0m \u001b[0mk\u001b[0m\u001b[0;34m=\u001b[0m\u001b[0;36m5\u001b[0m\u001b[0;34m,\u001b[0m \u001b[0mitem_features\u001b[0m\u001b[0;34m=\u001b[0m\u001b[0;32mNone\u001b[0m\u001b[0;34m,\u001b[0m\u001b[0muser_features\u001b[0m\u001b[0;34m=\u001b[0m\u001b[0muser_features\u001b[0m\u001b[0;34m,\u001b[0m \u001b[0mnum_threads\u001b[0m \u001b[0;34m=\u001b[0m \u001b[0;36m4\u001b[0m\u001b[0;34m)\u001b[0m\u001b[0;34m.\u001b[0m\u001b[0mmean\u001b[0m\u001b[0;34m(\u001b[0m\u001b[0;34m)\u001b[0m\u001b[0;34m\u001b[0m\u001b[0;34m\u001b[0m\u001b[0m\n\u001b[0m",
            "\u001b[0;32m/usr/local/lib/python3.8/dist-packages/lightfm/evaluation.py\u001b[0m in \u001b[0;36mprecision_at_k\u001b[0;34m(model, test_interactions, train_interactions, k, user_features, item_features, preserve_rows, num_threads, check_intersections)\u001b[0m\n\u001b[1;32m     69\u001b[0m         \u001b[0;32mraise\u001b[0m \u001b[0mValueError\u001b[0m\u001b[0;34m(\u001b[0m\u001b[0;34m\"Number of threads must be 1 or larger.\"\u001b[0m\u001b[0;34m)\u001b[0m\u001b[0;34m\u001b[0m\u001b[0;34m\u001b[0m\u001b[0m\n\u001b[1;32m     70\u001b[0m \u001b[0;34m\u001b[0m\u001b[0m\n\u001b[0;32m---> 71\u001b[0;31m     ranks = model.predict_rank(\n\u001b[0m\u001b[1;32m     72\u001b[0m         \u001b[0mtest_interactions\u001b[0m\u001b[0;34m,\u001b[0m\u001b[0;34m\u001b[0m\u001b[0;34m\u001b[0m\u001b[0m\n\u001b[1;32m     73\u001b[0m         \u001b[0mtrain_interactions\u001b[0m\u001b[0;34m=\u001b[0m\u001b[0mtrain_interactions\u001b[0m\u001b[0;34m,\u001b[0m\u001b[0;34m\u001b[0m\u001b[0;34m\u001b[0m\u001b[0m\n",
            "\u001b[0;32m/usr/local/lib/python3.8/dist-packages/lightfm/lightfm.py\u001b[0m in \u001b[0;36mpredict_rank\u001b[0;34m(self, test_interactions, train_interactions, item_features, user_features, num_threads, check_intersections)\u001b[0m\n\u001b[1;32m    940\u001b[0m         \u001b[0mlightfm_data\u001b[0m \u001b[0;34m=\u001b[0m \u001b[0mself\u001b[0m\u001b[0;34m.\u001b[0m\u001b[0m_get_lightfm_data\u001b[0m\u001b[0;34m(\u001b[0m\u001b[0;34m)\u001b[0m\u001b[0;34m\u001b[0m\u001b[0;34m\u001b[0m\u001b[0m\n\u001b[1;32m    941\u001b[0m \u001b[0;34m\u001b[0m\u001b[0m\n\u001b[0;32m--> 942\u001b[0;31m         predict_ranks(\n\u001b[0m\u001b[1;32m    943\u001b[0m             \u001b[0mCSRMatrix\u001b[0m\u001b[0;34m(\u001b[0m\u001b[0mitem_features\u001b[0m\u001b[0;34m)\u001b[0m\u001b[0;34m,\u001b[0m\u001b[0;34m\u001b[0m\u001b[0;34m\u001b[0m\u001b[0m\n\u001b[1;32m    944\u001b[0m             \u001b[0mCSRMatrix\u001b[0m\u001b[0;34m(\u001b[0m\u001b[0muser_features\u001b[0m\u001b[0;34m)\u001b[0m\u001b[0;34m,\u001b[0m\u001b[0;34m\u001b[0m\u001b[0;34m\u001b[0m\u001b[0m\n",
            "\u001b[0;31mKeyboardInterrupt\u001b[0m: "
          ]
        }
      ],
      "source": [
        "train_precision = precision_at_k(model, train, k=5, item_features=None,user_features=user_features, num_threads = 4).mean()"
      ]
    },
    {
      "cell_type": "code",
      "execution_count": null,
      "metadata": {
        "id": "PxBDmMAU1582"
      },
      "outputs": [],
      "source": [
        "test_precision = precision_at_k(model, test, k=10, item_features=None,user_features=user_features, num_threads = 4).mean()"
      ]
    },
    {
      "cell_type": "code",
      "execution_count": null,
      "metadata": {
        "id": "87uhZr4T2VHd"
      },
      "outputs": [],
      "source": [
        "print( 'Precision: train %.4f, test %.4f' \n",
        "      % ( train_precision,test_precision ))"
      ]
    },
    {
      "cell_type": "code",
      "execution_count": null,
      "metadata": {
        "id": "mMraX4DzGHKk"
      },
      "outputs": [],
      "source": [
        "# auc 방식으로 평가"
      ]
    },
    {
      "cell_type": "code",
      "execution_count": null,
      "metadata": {
        "id": "-eEQY0ClGI0d"
      },
      "outputs": [],
      "source": [
        "train_auc = auc_score(model, train, item_features=None,user_features=user_features).mean()"
      ]
    },
    {
      "cell_type": "code",
      "execution_count": null,
      "metadata": {
        "id": "R4k8thvAH8Q4"
      },
      "outputs": [],
      "source": [
        "test_auc = auc_score(model, test, item_features=None,user_features=user_features).mean()"
      ]
    },
    {
      "cell_type": "code",
      "execution_count": null,
      "metadata": {
        "id": "jH7Yys8pH9Zt"
      },
      "outputs": [],
      "source": [
        "print( 'AUC: train %.4f, test %.4f.' \n",
        "      % ( train_auc, test_auc))"
      ]
    },
    {
      "cell_type": "code",
      "execution_count": 14,
      "metadata": {
        "colab": {
          "base_uri": "https://localhost:8080/"
        },
        "id": "tB80yRbf5e6a",
        "outputId": "02ddf9c3-a7c7-42b5-a86e-e255c0733f91"
      },
      "outputs": [
        {
          "output_type": "stream",
          "name": "stdout",
          "text": [
            "Looking in indexes: https://pypi.org/simple, https://us-python.pkg.dev/colab-wheels/public/simple/\n",
            "Requirement already satisfied: scikit-learn in /usr/local/lib/python3.8/dist-packages (1.0.2)\n",
            "Requirement already satisfied: threadpoolctl>=2.0.0 in /usr/local/lib/python3.8/dist-packages (from scikit-learn) (3.1.0)\n",
            "Requirement already satisfied: joblib>=0.11 in /usr/local/lib/python3.8/dist-packages (from scikit-learn) (1.2.0)\n",
            "Requirement already satisfied: numpy>=1.14.6 in /usr/local/lib/python3.8/dist-packages (from scikit-learn) (1.21.6)\n",
            "Requirement already satisfied: scipy>=1.1.0 in /usr/local/lib/python3.8/dist-packages (from scikit-learn) (1.7.3)\n"
          ]
        }
      ],
      "source": [
        "%pip install scikit-learn"
      ]
    },
    {
      "cell_type": "code",
      "execution_count": 15,
      "metadata": {
        "id": "4aF3QS7n5XQO"
      },
      "outputs": [],
      "source": [
        "from sklearn.metrics import ndcg_score\n"
      ]
    },
    {
      "cell_type": "markdown",
      "metadata": {
        "id": "EPgxet8bGDH0"
      },
      "source": [
        "추천에서는 성능 지표로 precision@k 를 많이 사용하고 \n",
        "\n",
        "Precision@5 = 0.05 (test) 는 순위로 rank 가 된 게임 중 (k=) 5번째 내에 관심 있을 게임이 나올 정확도가 평균 5% 라는 것입니다. 수치가 매우 낮아보이지만, user/content 수가 많은 real 환경에서 5%를 넘기는 어렵다.\n",
        "​\n",
        "\n",
        "AUC는 모델의 전체 적인 성능을 나타내는 지표이다.\n",
        "\n",
        "​"
      ]
    },
    {
      "cell_type": "markdown",
      "metadata": {
        "id": "QkPzIbTEFcbY"
      },
      "source": [
        "\n",
        "\n",
        "> ## Predict score & Recommend games \n",
        "\n"
      ]
    },
    {
      "cell_type": "markdown",
      "metadata": {
        "id": "6eEW13Z-UC6k"
      },
      "source": []
    },
    {
      "cell_type": "code",
      "source": [
        "labels = items[['appid']]"
      ],
      "metadata": {
        "id": "JcHghgJ94lOy"
      },
      "execution_count": 130,
      "outputs": []
    },
    {
      "cell_type": "code",
      "execution_count": 140,
      "metadata": {
        "id": "m6akcuXJFkr5"
      },
      "outputs": [],
      "source": [
        "def recommendation(model, data, to_recommend): # 인자: model, interactions, to_recommend\n",
        "\n",
        "    n_users, n_items = data.shape\n",
        "\n",
        "    scores = model.predict(to_recommend, np.arange(n_items)) \n",
        "    labels['scores'] = scores.tolist()\n",
        "    labels.sort_values(by = ['scores'], ascending = False,inplace = True)\n",
        "    \n",
        "    return labels"
      ]
    },
    {
      "cell_type": "markdown",
      "metadata": {
        "id": "j2XjGZJWMA0A"
      },
      "source": [
        "\n",
        "\n",
        "*   group에 author id를 입력하면 모든 games 의 예측 평점을 계산하고\n",
        "ex) user 1 -> group = [0], user 2 = group = [1] \n",
        "*   list_no에 원하는 게임 수를 입력하면 높은순으로 games(id:score)를 리턴합니다."
      ]
    },
    {
      "cell_type": "code",
      "source": [
        "author = str(input('유저 입력: '))\n",
        "\n",
        "idx = int(users.loc[users['author']== author].index[0]) # predict의 첫번째 인자가 user의 index이므로 변환"
      ],
      "metadata": {
        "colab": {
          "base_uri": "https://localhost:8080/"
        },
        "id": "S9KLO-4m2vSz",
        "outputId": "71cb1461-26a8-469e-9598-cd17023c88e7"
      },
      "execution_count": 118,
      "outputs": [
        {
          "name": "stdout",
          "output_type": "stream",
          "text": [
            "유저 입력: 76561198905733625\n"
          ]
        }
      ]
    },
    {
      "cell_type": "code",
      "execution_count": 165,
      "metadata": {
        "id": "lKzS3u3VKS-h",
        "colab": {
          "base_uri": "https://localhost:8080/"
        },
        "outputId": "48bed7c2-60f1-4999-9906-1b28341e8313"
      },
      "outputs": [
        {
          "output_type": "stream",
          "name": "stdout",
          "text": [
            "name: Serious Sam 2   score: 2.392\n",
            "name: Atonement: Scourge of Time   score: 2.159\n",
            "name: LEGRAND LEGACY: Tale of the Fatebounds   score: 1.994\n",
            "name: STAR WARS™ - Dark Forces   score: 1.946\n",
            "name: Lost Horizon   score: 1.896\n"
          ]
        }
      ],
      "source": [
        "list_no = 5 # 임의로 5개 추천\n",
        "\n",
        "top_items = recommendation(model, interactions, idx)\n",
        "\n",
        "for x in range(list_no):\n",
        "  print('name:', games.loc[games['steam_appid'] == top_items.iloc[x][0]].iloc[0][1], '  score:', round(top_items.iloc[x][1], 3)) # 소수점 넷째자리에서 반올림"
      ]
    },
    {
      "cell_type": "code",
      "source": [
        "# ndcg 점수 평가"
      ],
      "metadata": {
        "id": "M7dN7Y1YExdX"
      },
      "execution_count": null,
      "outputs": []
    },
    {
      "cell_type": "code",
      "source": [
        "# 현재 이 부분에서 전체 ineractions matrix에 대한 score를 추출하고, score_data를 ineractions matrix의 최대/최소 범위에 대해 정규화해서\n",
        "# scikit-learn의 ndcg_score에 넣어 ndcg 평가를 수행할 계획이었음. "
      ],
      "metadata": {
        "id": "_d2GLNAURuAx"
      },
      "execution_count": null,
      "outputs": []
    },
    {
      "cell_type": "code",
      "source": [
        "n_users, n_items = interactions.shape\n",
        "scores = model.predict(np.arange(n_items), np.arange(n_items)) "
      ],
      "metadata": {
        "colab": {
          "base_uri": "https://localhost:8080/",
          "height": 190
        },
        "id": "N2Z_RBpZKQR_",
        "outputId": "4d3188ef-4a00-4afe-ee93-2c12ea088825"
      },
      "execution_count": 37,
      "outputs": [
        {
          "output_type": "error",
          "ename": "NameError",
          "evalue": "ignored",
          "traceback": [
            "\u001b[0;31m---------------------------------------------------------------------------\u001b[0m",
            "\u001b[0;31mNameError\u001b[0m                                 Traceback (most recent call last)",
            "\u001b[0;32m<ipython-input-37-d8eb9b3ceb9e>\u001b[0m in \u001b[0;36m<module>\u001b[0;34m\u001b[0m\n\u001b[1;32m      1\u001b[0m \u001b[0mn_users\u001b[0m\u001b[0;34m,\u001b[0m \u001b[0mn_items\u001b[0m \u001b[0;34m=\u001b[0m \u001b[0minteractions\u001b[0m\u001b[0;34m.\u001b[0m\u001b[0mshape\u001b[0m\u001b[0;34m\u001b[0m\u001b[0;34m\u001b[0m\u001b[0m\n\u001b[0;32m----> 2\u001b[0;31m \u001b[0mscores\u001b[0m \u001b[0;34m=\u001b[0m \u001b[0mmodel\u001b[0m\u001b[0;34m.\u001b[0m\u001b[0mpredict\u001b[0m\u001b[0;34m(\u001b[0m\u001b[0mnp\u001b[0m\u001b[0;34m.\u001b[0m\u001b[0marange\u001b[0m\u001b[0;34m(\u001b[0m\u001b[0mn_items\u001b[0m\u001b[0;34m)\u001b[0m\u001b[0;34m,\u001b[0m \u001b[0mnp\u001b[0m\u001b[0;34m.\u001b[0m\u001b[0marange\u001b[0m\u001b[0;34m(\u001b[0m\u001b[0mn_items\u001b[0m\u001b[0;34m)\u001b[0m\u001b[0;34m)\u001b[0m\u001b[0;34m\u001b[0m\u001b[0;34m\u001b[0m\u001b[0m\n\u001b[0m",
            "\u001b[0;31mNameError\u001b[0m: name 'model' is not defined"
          ]
        }
      ]
    },
    {
      "cell_type": "code",
      "source": [
        "# 추가로 정확도 개선, predict_rank()를 이용해 새로운 유저의 리뷰 데이터에 대해서도 추천이 가능하게 만들어야함."
      ],
      "metadata": {
        "id": "5XgtLmMMSHwA"
      },
      "execution_count": null,
      "outputs": []
    },
    {
      "cell_type": "code",
      "source": [
        "!git remote add origin "
      ],
      "metadata": {
        "colab": {
          "base_uri": "https://localhost:8080/"
        },
        "id": "eajx3n3nSdiK",
        "outputId": "a0ae42c4-4052-47f1-b7d0-3d4f5035ecab"
      },
      "execution_count": 1,
      "outputs": [
        {
          "output_type": "stream",
          "name": "stdout",
          "text": [
            "fatal: not a git repository (or any of the parent directories): .git\n"
          ]
        }
      ]
    }
  ],
  "metadata": {
    "colab": {
      "provenance": []
    },
    "kernelspec": {
      "display_name": "Python 3",
      "name": "python3"
    },
    "language_info": {
      "name": "python"
    }
  },
  "nbformat": 4,
  "nbformat_minor": 0
}