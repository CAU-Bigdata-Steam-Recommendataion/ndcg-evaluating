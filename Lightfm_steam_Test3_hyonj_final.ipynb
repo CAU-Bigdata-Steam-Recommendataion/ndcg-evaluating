{
 "cells": [
  {
   "cell_type": "code",
   "execution_count": null,
   "metadata": {
    "colab": {
     "base_uri": "https://localhost:8080/"
    },
    "id": "RE8TMnlACRRA",
    "outputId": "790e0283-045c-4dda-d13f-961b5f88f101"
   },
   "outputs": [],
   "source": []
  },
  {
   "cell_type": "code",
   "execution_count": 1,
   "metadata": {
    "id": "jYQyDmT9Cj6I"
   },
   "outputs": [
    {
     "name": "stderr",
     "output_type": "stream",
     "text": [
      "C:\\Users\\DI_lab\\anaconda3\\envs\\newsdata\\lib\\site-packages\\lightfm\\_lightfm_fast.py:9: UserWarning: LightFM was compiled without OpenMP support. Only a single thread will be used.\n",
      "  warnings.warn(\n"
     ]
    }
   ],
   "source": [
    "import time\n",
    "import os\n",
    "import zipfile\n",
    "import csv\n",
    "import requests\n",
    "import json\n",
    "from itertools import islice\n",
    "\n",
    "import matplotlib\n",
    "import matplotlib.pyplot as plt\n",
    "import numpy as np\n",
    "import pandas as pd\n",
    "\n",
    "from lightfm.data import Dataset\n",
    "from lightfm import LightFM\n",
    "from lightfm.evaluation import precision_at_k\n",
    "from lightfm.evaluation import auc_score\n",
    "from lightfm.cross_validation import random_train_test_split \n",
    "\n",
    "from scipy.sparse import coo_matrix as sp\n",
    "\n",
    "import warnings # warings 제거\n",
    "warnings.filterwarnings(action='ignore')"
   ]
  },
  {
   "cell_type": "code",
   "execution_count": null,
   "metadata": {
    "colab": {
     "base_uri": "https://localhost:8080/"
    },
    "id": "uYergncVqt3Q",
    "outputId": "5722f708-ab1c-4162-ef28-d2b1f690b08c"
   },
   "outputs": [],
   "source": []
  },
  {
   "cell_type": "code",
   "execution_count": 2,
   "metadata": {
    "id": "SShp9Ui281RB"
   },
   "outputs": [],
   "source": [
    "# 초기설정시 기본 환경설정"
   ]
  },
  {
   "cell_type": "code",
   "execution_count": null,
   "metadata": {
    "colab": {
     "base_uri": "https://localhost:8080/"
    },
    "id": "44F9BzpasZ8P",
    "outputId": "3bb0661a-d803-49bd-b892-e5387909bbba"
   },
   "outputs": [],
   "source": []
  },
  {
   "cell_type": "code",
   "execution_count": null,
   "metadata": {
    "id": "9W-92m4CscgO"
   },
   "outputs": [],
   "source": []
  },
  {
   "cell_type": "code",
   "execution_count": null,
   "metadata": {
    "colab": {
     "base_uri": "https://localhost:8080/"
    },
    "id": "VSzoyIsffdaT",
    "outputId": "4dacd0dc-d02c-4d17-fdd0-d9565dd3e24c"
   },
   "outputs": [],
   "source": []
  },
  {
   "cell_type": "code",
   "execution_count": null,
   "metadata": {
    "colab": {
     "base_uri": "https://localhost:8080/"
    },
    "id": "524pABduMsr4",
    "outputId": "7e600193-5b17-488e-bbdf-de97da9fb838"
   },
   "outputs": [],
   "source": []
  },
  {
   "cell_type": "code",
   "execution_count": 3,
   "metadata": {
    "id": "vzppXuMp83kS"
   },
   "outputs": [],
   "source": [
    "# 데이터 로드 (type : dataframe)"
   ]
  },
  {
   "cell_type": "code",
   "execution_count": 4,
   "metadata": {
    "id": "5iidZxVGqcIN"
   },
   "outputs": [],
   "source": [
    "with open(\"D:/steam_data/games/steam_dataset/appinfo/store_data/steam_store_data.json\", 'r') as game_data:\n",
    "    game_data = pd.read_json(game_data)"
   ]
  },
  {
   "cell_type": "code",
   "execution_count": 5,
   "metadata": {
    "id": "PHx68bSAqpxr"
   },
   "outputs": [],
   "source": [
    "with open('parsed_data_overten_reset.csv', 'r') as review_data:\n",
    "    review_data = pd.read_csv(review_data)"
   ]
  },
  {
   "cell_type": "code",
   "execution_count": 6,
   "metadata": {
    "id": "PfLX1vn7ROOh"
   },
   "outputs": [],
   "source": [
    "with open('score_data_overten_pos_neg.csv', 'r') as score_data: # ndcg\n",
    "    score_data = pd.read_csv(score_data)"
   ]
  },
  {
   "cell_type": "markdown",
   "metadata": {
    "id": "ffLY-6j7_r_H"
   },
   "source": [
    "# 1. Data structure and embedding\n"
   ]
  },
  {
   "cell_type": "markdown",
   "metadata": {
    "id": "9CetHZdUFAZW"
   },
   "source": [
    "\n",
    "\n",
    "> ## Data loading, preprocessing\n",
    "\n",
    "\n"
   ]
  },
  {
   "cell_type": "markdown",
   "metadata": {
    "id": "6iihYyI-Df-u"
   },
   "source": [
    "**user_features** : user의 특성(예시: 성별, 지역, 선호유형)\n",
    "\n",
    "**item_features**: item의 특성(예시: 제목, 가격, 장르, 국가, 게시 시간)\n",
    "\n",
    "**interactions** : user-item간의 data(평점)"
   ]
  },
  {
   "cell_type": "markdown",
   "metadata": {
    "id": "vcRAvXHXnt4T"
   },
   "source": [
    "> ## 데이터프레임 형태 변형 및 확인"
   ]
  },
  {
   "cell_type": "code",
   "execution_count": 7,
   "metadata": {
    "id": "82TWJeolnqj4"
   },
   "outputs": [],
   "source": [
    "game_data = game_data.transpose() # 행렬 뒤집기"
   ]
  },
  {
   "cell_type": "markdown",
   "metadata": {
    "id": "63C0nX3PBZvF"
   },
   "source": []
  },
  {
   "cell_type": "code",
   "execution_count": 8,
   "metadata": {
    "id": "4Y0Rf7A2tN_y"
   },
   "outputs": [],
   "source": [
    "game_data = game_data[['steam_appid', 'name']] \n",
    "review_data = review_data[['author', 'appid', 'playtime_forever', 'playtime_at_review', 'voted_up', 'votes_up']] "
   ]
  },
  {
   "cell_type": "code",
   "execution_count": 9,
   "metadata": {
    "id": "-_YVmtgCC78a"
   },
   "outputs": [],
   "source": [
    "# 변수명 명시적으로 변경함\n",
    "\n",
    "ratings = review_data \n",
    "games = game_data "
   ]
  },
  {
   "cell_type": "code",
   "execution_count": 10,
   "metadata": {
    "id": "rBCMYSgDpHpr"
   },
   "outputs": [],
   "source": [
    "ratings['author'] = ratings['author'].astype('str') # ratings['author']의 타입이 numpy.int64 이므로 str로 변환"
   ]
  },
  {
   "cell_type": "code",
   "execution_count": 11,
   "metadata": {},
   "outputs": [
    {
     "data": {
      "text/html": [
       "<div>\n",
       "<style scoped>\n",
       "    .dataframe tbody tr th:only-of-type {\n",
       "        vertical-align: middle;\n",
       "    }\n",
       "\n",
       "    .dataframe tbody tr th {\n",
       "        vertical-align: top;\n",
       "    }\n",
       "\n",
       "    .dataframe thead th {\n",
       "        text-align: right;\n",
       "    }\n",
       "</style>\n",
       "<table border=\"1\" class=\"dataframe\">\n",
       "  <thead>\n",
       "    <tr style=\"text-align: right;\">\n",
       "      <th></th>\n",
       "      <th>author</th>\n",
       "      <th>appid</th>\n",
       "      <th>playtime_forever</th>\n",
       "      <th>playtime_at_review</th>\n",
       "      <th>voted_up</th>\n",
       "      <th>votes_up</th>\n",
       "    </tr>\n",
       "  </thead>\n",
       "  <tbody>\n",
       "    <tr>\n",
       "      <th>0</th>\n",
       "      <td>76561198976638577</td>\n",
       "      <td>10</td>\n",
       "      <td>104.0</td>\n",
       "      <td>10</td>\n",
       "      <td>True</td>\n",
       "      <td>0</td>\n",
       "    </tr>\n",
       "    <tr>\n",
       "      <th>1</th>\n",
       "      <td>76561198391972225</td>\n",
       "      <td>10</td>\n",
       "      <td>426.0</td>\n",
       "      <td>426</td>\n",
       "      <td>True</td>\n",
       "      <td>1</td>\n",
       "    </tr>\n",
       "    <tr>\n",
       "      <th>2</th>\n",
       "      <td>76561198414408167</td>\n",
       "      <td>10</td>\n",
       "      <td>386.0</td>\n",
       "      <td>199</td>\n",
       "      <td>True</td>\n",
       "      <td>0</td>\n",
       "    </tr>\n",
       "    <tr>\n",
       "      <th>3</th>\n",
       "      <td>76561198376936422</td>\n",
       "      <td>10</td>\n",
       "      <td>165.0</td>\n",
       "      <td>184</td>\n",
       "      <td>True</td>\n",
       "      <td>0</td>\n",
       "    </tr>\n",
       "    <tr>\n",
       "      <th>4</th>\n",
       "      <td>76561198905733625</td>\n",
       "      <td>10</td>\n",
       "      <td>28.0</td>\n",
       "      <td>40</td>\n",
       "      <td>True</td>\n",
       "      <td>0</td>\n",
       "    </tr>\n",
       "    <tr>\n",
       "      <th>...</th>\n",
       "      <td>...</td>\n",
       "      <td>...</td>\n",
       "      <td>...</td>\n",
       "      <td>...</td>\n",
       "      <td>...</td>\n",
       "      <td>...</td>\n",
       "    </tr>\n",
       "    <tr>\n",
       "      <th>14916131</th>\n",
       "      <td>76561198284162593</td>\n",
       "      <td>999660</td>\n",
       "      <td>21.0</td>\n",
       "      <td>21</td>\n",
       "      <td>False</td>\n",
       "      <td>4</td>\n",
       "    </tr>\n",
       "    <tr>\n",
       "      <th>14916132</th>\n",
       "      <td>76561198348027001</td>\n",
       "      <td>999660</td>\n",
       "      <td>291.0</td>\n",
       "      <td>200</td>\n",
       "      <td>True</td>\n",
       "      <td>0</td>\n",
       "    </tr>\n",
       "    <tr>\n",
       "      <th>14916133</th>\n",
       "      <td>76561198250100526</td>\n",
       "      <td>999660</td>\n",
       "      <td>117.0</td>\n",
       "      <td>27</td>\n",
       "      <td>True</td>\n",
       "      <td>0</td>\n",
       "    </tr>\n",
       "    <tr>\n",
       "      <th>14916134</th>\n",
       "      <td>76561198847043627</td>\n",
       "      <td>999660</td>\n",
       "      <td>606.0</td>\n",
       "      <td>99</td>\n",
       "      <td>True</td>\n",
       "      <td>2</td>\n",
       "    </tr>\n",
       "    <tr>\n",
       "      <th>14916135</th>\n",
       "      <td>76561199082345747</td>\n",
       "      <td>999660</td>\n",
       "      <td>65.0</td>\n",
       "      <td>31</td>\n",
       "      <td>True</td>\n",
       "      <td>1</td>\n",
       "    </tr>\n",
       "  </tbody>\n",
       "</table>\n",
       "<p>14916136 rows × 6 columns</p>\n",
       "</div>"
      ],
      "text/plain": [
       "                     author   appid  playtime_forever  playtime_at_review  \\\n",
       "0         76561198976638577      10             104.0                  10   \n",
       "1         76561198391972225      10             426.0                 426   \n",
       "2         76561198414408167      10             386.0                 199   \n",
       "3         76561198376936422      10             165.0                 184   \n",
       "4         76561198905733625      10              28.0                  40   \n",
       "...                     ...     ...               ...                 ...   \n",
       "14916131  76561198284162593  999660              21.0                  21   \n",
       "14916132  76561198348027001  999660             291.0                 200   \n",
       "14916133  76561198250100526  999660             117.0                  27   \n",
       "14916134  76561198847043627  999660             606.0                  99   \n",
       "14916135  76561199082345747  999660              65.0                  31   \n",
       "\n",
       "          voted_up  votes_up  \n",
       "0             True         0  \n",
       "1             True         1  \n",
       "2             True         0  \n",
       "3             True         0  \n",
       "4             True         0  \n",
       "...            ...       ...  \n",
       "14916131     False         4  \n",
       "14916132      True         0  \n",
       "14916133      True         0  \n",
       "14916134      True         2  \n",
       "14916135      True         1  \n",
       "\n",
       "[14916136 rows x 6 columns]"
      ]
     },
     "execution_count": 11,
     "metadata": {},
     "output_type": "execute_result"
    }
   ],
   "source": [
    "ratings"
   ]
  },
  {
   "cell_type": "markdown",
   "metadata": {
    "id": "j4ek910CAk3h"
   },
   "source": [
    "\n",
    "\n",
    "> ## Data embedding\n",
    "위의 데이터를 embedding dataset으로 build\n",
    "\n"
   ]
  },
  {
   "cell_type": "code",
   "execution_count": 12,
   "metadata": {
    "id": "Q4KgMDdImEcD"
   },
   "outputs": [],
   "source": [
    "# 데이터프레임 중복 확인"
   ]
  },
  {
   "cell_type": "code",
   "execution_count": 13,
   "metadata": {
    "id": "G2F_OrnfxwYj"
   },
   "outputs": [],
   "source": [
    "users = ratings[['author']]\n",
    "users.drop_duplicates(inplace = True)"
   ]
  },
  {
   "cell_type": "code",
   "execution_count": 14,
   "metadata": {
    "colab": {
     "base_uri": "https://localhost:8080/"
    },
    "id": "iiZZatskx54x",
    "outputId": "d74474bf-94e3-43c3-c371-6dc277dec57c"
   },
   "outputs": [
    {
     "data": {
      "text/html": [
       "<div>\n",
       "<style scoped>\n",
       "    .dataframe tbody tr th:only-of-type {\n",
       "        vertical-align: middle;\n",
       "    }\n",
       "\n",
       "    .dataframe tbody tr th {\n",
       "        vertical-align: top;\n",
       "    }\n",
       "\n",
       "    .dataframe thead th {\n",
       "        text-align: right;\n",
       "    }\n",
       "</style>\n",
       "<table border=\"1\" class=\"dataframe\">\n",
       "  <thead>\n",
       "    <tr style=\"text-align: right;\">\n",
       "      <th></th>\n",
       "      <th>author</th>\n",
       "    </tr>\n",
       "  </thead>\n",
       "  <tbody>\n",
       "    <tr>\n",
       "      <th>0</th>\n",
       "      <td>76561198976638577</td>\n",
       "    </tr>\n",
       "    <tr>\n",
       "      <th>1</th>\n",
       "      <td>76561198391972225</td>\n",
       "    </tr>\n",
       "    <tr>\n",
       "      <th>2</th>\n",
       "      <td>76561198414408167</td>\n",
       "    </tr>\n",
       "    <tr>\n",
       "      <th>3</th>\n",
       "      <td>76561198376936422</td>\n",
       "    </tr>\n",
       "    <tr>\n",
       "      <th>4</th>\n",
       "      <td>76561198905733625</td>\n",
       "    </tr>\n",
       "    <tr>\n",
       "      <th>...</th>\n",
       "      <td>...</td>\n",
       "    </tr>\n",
       "    <tr>\n",
       "      <th>11141226</th>\n",
       "      <td>76561198250534406</td>\n",
       "    </tr>\n",
       "    <tr>\n",
       "      <th>11158103</th>\n",
       "      <td>76561198061690430</td>\n",
       "    </tr>\n",
       "    <tr>\n",
       "      <th>11186956</th>\n",
       "      <td>76561198363670762</td>\n",
       "    </tr>\n",
       "    <tr>\n",
       "      <th>11223767</th>\n",
       "      <td>76561198356586449</td>\n",
       "    </tr>\n",
       "    <tr>\n",
       "      <th>11712023</th>\n",
       "      <td>76561198801803202</td>\n",
       "    </tr>\n",
       "  </tbody>\n",
       "</table>\n",
       "<p>746243 rows × 1 columns</p>\n",
       "</div>"
      ],
      "text/plain": [
       "                     author\n",
       "0         76561198976638577\n",
       "1         76561198391972225\n",
       "2         76561198414408167\n",
       "3         76561198376936422\n",
       "4         76561198905733625\n",
       "...                     ...\n",
       "11141226  76561198250534406\n",
       "11158103  76561198061690430\n",
       "11186956  76561198363670762\n",
       "11223767  76561198356586449\n",
       "11712023  76561198801803202\n",
       "\n",
       "[746243 rows x 1 columns]"
      ]
     },
     "execution_count": 14,
     "metadata": {},
     "output_type": "execute_result"
    }
   ],
   "source": [
    "users"
   ]
  },
  {
   "cell_type": "code",
   "execution_count": 15,
   "metadata": {
    "id": "xL3zNgcX-ljt"
   },
   "outputs": [],
   "source": [
    "ratings.drop_duplicates(inplace = True) # 14916136 -> 13828950로 중복 행 제거"
   ]
  },
  {
   "cell_type": "code",
   "execution_count": 16,
   "metadata": {
    "id": "ALAnZe8DyBjY"
   },
   "outputs": [],
   "source": [
    "items = ratings[['appid']]\n",
    "items.drop_duplicates(inplace = True)"
   ]
  },
  {
   "cell_type": "code",
   "execution_count": 17,
   "metadata": {
    "colab": {
     "base_uri": "https://localhost:8080/"
    },
    "id": "ry2eo-25yKRx",
    "outputId": "8a8729ff-26cf-45e7-e4a0-2cd4ae1f923f"
   },
   "outputs": [
    {
     "data": {
      "text/plain": [
       "11566"
      ]
     },
     "execution_count": 17,
     "metadata": {},
     "output_type": "execute_result"
    }
   ],
   "source": [
    "items.shape[0] # 총 게임 개수는 51927인데 반해 리뷰에 있는 게임 개수는 11566(따라서 interactions의 item 개수는 11566)"
   ]
  },
  {
   "cell_type": "code",
   "execution_count": 18,
   "metadata": {
    "id": "KItRQP65_obp"
   },
   "outputs": [],
   "source": [
    "games.drop_duplicates(inplace = True) # 51936 -> 51927로 중복 행 제거"
   ]
  },
  {
   "cell_type": "code",
   "execution_count": 19,
   "metadata": {
    "id": "WpC_kCyEmIaV"
   },
   "outputs": [],
   "source": [
    "# user-item 사이의 interactions matrix 생성"
   ]
  },
  {
   "cell_type": "code",
   "execution_count": 20,
   "metadata": {},
   "outputs": [],
   "source": [
    "playtime_summed = ratings.groupby('author')[\"playtime_forever\"].sum()"
   ]
  },
  {
   "cell_type": "code",
   "execution_count": 21,
   "metadata": {
    "id": "mSaIYIDEu_aD"
   },
   "outputs": [
    {
     "data": {
      "text/html": [
       "<div>\n",
       "<style scoped>\n",
       "    .dataframe tbody tr th:only-of-type {\n",
       "        vertical-align: middle;\n",
       "    }\n",
       "\n",
       "    .dataframe tbody tr th {\n",
       "        vertical-align: top;\n",
       "    }\n",
       "\n",
       "    .dataframe thead th {\n",
       "        text-align: right;\n",
       "    }\n",
       "</style>\n",
       "<table border=\"1\" class=\"dataframe\">\n",
       "  <thead>\n",
       "    <tr style=\"text-align: right;\">\n",
       "      <th></th>\n",
       "      <th>author</th>\n",
       "      <th>playtime_forever</th>\n",
       "    </tr>\n",
       "  </thead>\n",
       "  <tbody>\n",
       "    <tr>\n",
       "      <th>0</th>\n",
       "      <td>76561197960267615</td>\n",
       "      <td>36960.0</td>\n",
       "    </tr>\n",
       "    <tr>\n",
       "      <th>1</th>\n",
       "      <td>76561197960267984</td>\n",
       "      <td>116432.0</td>\n",
       "    </tr>\n",
       "    <tr>\n",
       "      <th>2</th>\n",
       "      <td>76561197960268765</td>\n",
       "      <td>240727.0</td>\n",
       "    </tr>\n",
       "    <tr>\n",
       "      <th>3</th>\n",
       "      <td>76561197960269149</td>\n",
       "      <td>141111.0</td>\n",
       "    </tr>\n",
       "    <tr>\n",
       "      <th>4</th>\n",
       "      <td>76561197960269155</td>\n",
       "      <td>45904.0</td>\n",
       "    </tr>\n",
       "    <tr>\n",
       "      <th>...</th>\n",
       "      <td>...</td>\n",
       "      <td>...</td>\n",
       "    </tr>\n",
       "    <tr>\n",
       "      <th>746238</th>\n",
       "      <td>76561199370201573</td>\n",
       "      <td>10356.0</td>\n",
       "    </tr>\n",
       "    <tr>\n",
       "      <th>746239</th>\n",
       "      <td>76561199372600134</td>\n",
       "      <td>2595.0</td>\n",
       "    </tr>\n",
       "    <tr>\n",
       "      <th>746240</th>\n",
       "      <td>76561199374305625</td>\n",
       "      <td>12221.0</td>\n",
       "    </tr>\n",
       "    <tr>\n",
       "      <th>746241</th>\n",
       "      <td>76561199375222483</td>\n",
       "      <td>5588.0</td>\n",
       "    </tr>\n",
       "    <tr>\n",
       "      <th>746242</th>\n",
       "      <td>76561199378977805</td>\n",
       "      <td>8036.0</td>\n",
       "    </tr>\n",
       "  </tbody>\n",
       "</table>\n",
       "<p>746243 rows × 2 columns</p>\n",
       "</div>"
      ],
      "text/plain": [
       "                   author  playtime_forever\n",
       "0       76561197960267615           36960.0\n",
       "1       76561197960267984          116432.0\n",
       "2       76561197960268765          240727.0\n",
       "3       76561197960269149          141111.0\n",
       "4       76561197960269155           45904.0\n",
       "...                   ...               ...\n",
       "746238  76561199370201573           10356.0\n",
       "746239  76561199372600134            2595.0\n",
       "746240  76561199374305625           12221.0\n",
       "746241  76561199375222483            5588.0\n",
       "746242  76561199378977805            8036.0\n",
       "\n",
       "[746243 rows x 2 columns]"
      ]
     },
     "execution_count": 21,
     "metadata": {},
     "output_type": "execute_result"
    }
   ],
   "source": [
    "playtime_summed.reset_index()"
   ]
  },
  {
   "cell_type": "code",
   "execution_count": null,
   "metadata": {},
   "outputs": [],
   "source": []
  },
  {
   "cell_type": "code",
   "execution_count": 22,
   "metadata": {},
   "outputs": [],
   "source": [
    "games = pd.read_csv(\"game_data.csv\")"
   ]
  },
  {
   "cell_type": "code",
   "execution_count": 23,
   "metadata": {},
   "outputs": [],
   "source": [
    "unique_games = games.set_index('appid').loc[items['appid']]\n",
    "unique_games = unique_games.reset_index()"
   ]
  },
  {
   "cell_type": "code",
   "execution_count": 24,
   "metadata": {},
   "outputs": [
    {
     "data": {
      "text/plain": [
       "array(['Counter-Strike', 0, False, ..., 'SNK CORPORATION', 2020, 143],\n",
       "      dtype=object)"
      ]
     },
     "execution_count": 24,
     "metadata": {},
     "output_type": "execute_result"
    }
   ],
   "source": [
    "item_meta = unique_games[['appid', 'game_names', 'required_age', 'is_free', 'developers', 'publishers', 'release_date', 'recommendations']]\n",
    "#item_meta = games\n",
    "item_meta[item_meta.columns[1:]].values.flatten()"
   ]
  },
  {
   "cell_type": "code",
   "execution_count": 25,
   "metadata": {
    "id": "r9z0xxkQ-GBX"
   },
   "outputs": [],
   "source": [
    "dataset = Dataset()\n",
    "dataset.fit(users=users['author'], items=items['appid'], user_features = [\"playtime_forever\"],\n",
    "            item_features = item_meta[item_meta.columns[1:]].values.flatten())"
   ]
  },
  {
   "cell_type": "code",
   "execution_count": 26,
   "metadata": {
    "id": "5s_97Hu7l2JN"
   },
   "outputs": [],
   "source": [
    "ratings_source = ratings[['author', 'appid']]\n",
    "ratings_source.drop_duplicates(inplace = True)\n",
    "ratings_source = ratings_source.values.tolist()"
   ]
  },
  {
   "cell_type": "code",
   "execution_count": 27,
   "metadata": {
    "id": "U06DiADXajbG"
   },
   "outputs": [],
   "source": [
    "interactions, weights = dataset.build_interactions(ratings_source)"
   ]
  },
  {
   "cell_type": "code",
   "execution_count": 28,
   "metadata": {
    "id": "R3zzWYmzmMVy"
   },
   "outputs": [],
   "source": [
    "# user_features 빌드"
   ]
  },
  {
   "cell_type": "code",
   "execution_count": null,
   "metadata": {
    "id": "XGkEFClvol6x"
   },
   "outputs": [],
   "source": []
  },
  {
   "cell_type": "code",
   "execution_count": 29,
   "metadata": {
    "id": "bc7qDZmRQzuY"
   },
   "outputs": [],
   "source": [
    "u_ = playtime_summed.reset_index()['author']\n",
    "f_ = playtime_summed.reset_index()['playtime_forever']\n",
    "user_features_source = [[u, f] for u, f in zip(u_, f_)]"
   ]
  },
  {
   "cell_type": "code",
   "execution_count": 30,
   "metadata": {
    "id": "hoP4lkg2qfUm"
   },
   "outputs": [],
   "source": [
    "user_features_source = [[i[0], {\"playtime_forever\":i[1]}] for i in user_features_source]"
   ]
  },
  {
   "cell_type": "code",
   "execution_count": 31,
   "metadata": {
    "id": "63ObcUevJtVo"
   },
   "outputs": [],
   "source": [
    "user_features=dataset.build_user_features(user_features_source)"
   ]
  },
  {
   "cell_type": "code",
   "execution_count": 32,
   "metadata": {},
   "outputs": [],
   "source": [
    "item_features_source = [(item_meta['appid'][i],\n",
    "                        {\"game_names\":item_meta['game_names'][i],\n",
    "                         \"required_age\": item_meta['required_age'][i],\n",
    "                         \"is_free\": item_meta['is_free'][i],\n",
    "                         \"developers\": item_meta['developers'][i],\n",
    "                         \"publishers\": item_meta['publishers'][i],\n",
    "                         \"release_date\": item_meta['release_date'][i],\n",
    "                         \"recommendations\": item_meta['recommendations'][i]\n",
    "                        }) for i in range(item_meta.shape[0])]"
   ]
  },
  {
   "cell_type": "code",
   "execution_count": 33,
   "metadata": {},
   "outputs": [],
   "source": [
    "item_features_source = [(item_meta['appid'][i],\n",
    "                        [item_meta['game_names'][i],\n",
    "                         item_meta['required_age'][i],\n",
    "                         item_meta['is_free'][i],\n",
    "                         item_meta['developers'][i],\n",
    "                         item_meta['publishers'][i],\n",
    "                         item_meta['release_date'][i],\n",
    "                         item_meta['recommendations'][i]\n",
    "                        ]) for i in range(item_meta.shape[0])]"
   ]
  },
  {
   "cell_type": "code",
   "execution_count": 34,
   "metadata": {},
   "outputs": [
    {
     "data": {
      "text/plain": [
       "(10, ['Counter-Strike', 0, False, 'Valve', 'Valve', 2000, 121279])"
      ]
     },
     "execution_count": 34,
     "metadata": {},
     "output_type": "execute_result"
    }
   ],
   "source": [
    "item_features_source[0]"
   ]
  },
  {
   "cell_type": "code",
   "execution_count": 35,
   "metadata": {},
   "outputs": [],
   "source": [
    "game_features=dataset.build_item_features(item_features_source)"
   ]
  },
  {
   "cell_type": "code",
   "execution_count": null,
   "metadata": {},
   "outputs": [],
   "source": []
  },
  {
   "cell_type": "code",
   "execution_count": null,
   "metadata": {},
   "outputs": [],
   "source": []
  },
  {
   "cell_type": "markdown",
   "metadata": {
    "id": "q3hAoSP_CgGB"
   },
   "source": [
    "# 2. LightFM Model Function"
   ]
  },
  {
   "cell_type": "markdown",
   "metadata": {
    "id": "rjJ4FlflE6jc"
   },
   "source": [
    "\n",
    "\n",
    "> ## Model fit, optimize\n",
    "\n"
   ]
  },
  {
   "cell_type": "markdown",
   "metadata": {
    "id": "a8eSWzM0FuZn"
   },
   "source": [
    "loss function 으로  WARP ,  정확도는 precision@k 를 사용하여 evalutation 을 해준다."
   ]
  },
  {
   "cell_type": "code",
   "execution_count": 36,
   "metadata": {
    "id": "sbH0VQskF-XK"
   },
   "outputs": [],
   "source": [
    "# 모델 생성 및 학습시킴"
   ]
  },
  {
   "cell_type": "code",
   "execution_count": null,
   "metadata": {
    "colab": {
     "base_uri": "https://localhost:8080/"
    },
    "id": "eKjxwd0881Dr",
    "outputId": "9a8db3cf-8bab-4c35-8254-65d1d0ae5e99"
   },
   "outputs": [],
   "source": [
    "model = LightFM(loss='warp') \n",
    "train, test = random_train_test_split(interactions=interactions, test_percentage=0.25) # test_percentage 0.2 -> 0.25\n",
    "model.fit(train, item_features=game_features,\n",
    "          user_features=user_features, epochs = 10, num_threads = 4, verbose=True) # 에포크 2회 -> 10회"
   ]
  },
  {
   "cell_type": "code",
   "execution_count": 37,
   "metadata": {
    "id": "KNUzAg7GGDQF"
   },
   "outputs": [],
   "source": [
    "# precision at k 방식으로 평가\n",
    "train, test = random_train_test_split(interactions=interactions, test_percentage=0.25) # test_percentage 0.2 -> 0.25"
   ]
  },
  {
   "cell_type": "code",
   "execution_count": 56,
   "metadata": {},
   "outputs": [],
   "source": [
    "def test_data(testmodel_, itemf, userf):\n",
    "    train_precision_5 = precision_at_k(testmodel_, train, k=5, item_features=itemf,\n",
    "                                 user_features=userf, num_threads = 4).mean()\n",
    "    train_precision_10 = precision_at_k(testmodel_, train, k=10, item_features=itemf,\n",
    "                                 user_features=userf, num_threads = 4).mean()\n",
    "    test_precision_10 = precision_at_k(testmodel_, test, k=10, item_features=itemf,\n",
    "                                user_features=userf, num_threads = 4).mean()\n",
    "    test_precision_5 = precision_at_k(testmodel_, test, k=5, item_features=itemf,\n",
    "                                user_features=userf, num_threads = 4).mean()\n",
    "    print( 'Precision: \\ntrain \\n  5: %.4f, 10: %.4f\\ntest \\n  5: %.4f, 10: %.4f'\n",
    "      % ( train_precision_5,train_precision_10, test_precision_5, test_precision_10 ))\n",
    "    # auc 방식으로 평가\n",
    "    train_auc = auc_score(testmodel_, train, item_features=itemf,\n",
    "                      user_features=userf).mean()\n",
    "    test_auc = auc_score(testmodel_, test, item_features=itemf,\n",
    "                     user_features=userf).mean()\n",
    "    print( 'AUC: train %.4f, test %.4f.' \n",
    "      % ( train_auc, test_auc))"
   ]
  },
  {
   "cell_type": "code",
   "execution_count": 39,
   "metadata": {
    "colab": {
     "base_uri": "https://localhost:8080/",
     "height": 323
    },
    "id": "QC1kBeSj1OqG",
    "outputId": "8ebfc3ab-e3a9-4c3c-96d1-da333e2647ed"
   },
   "outputs": [
    {
     "name": "stderr",
     "output_type": "stream",
     "text": [
      "Epoch: 100%|███████████████████████████████████████████████████████████████████████████| 10/10 [07:57<00:00, 47.75s/it]\n"
     ]
    },
    {
     "data": {
      "text/plain": [
       "<lightfm.lightfm.LightFM at 0x205b8b10fd0>"
      ]
     },
     "execution_count": 39,
     "metadata": {},
     "output_type": "execute_result"
    }
   ],
   "source": [
    "model = LightFM(loss='warp') \n",
    "model.fit(train, item_features=game_features,\n",
    "          user_features=user_features, epochs = 10, num_threads = 4, verbose=True) # 에포크 2회 -> 10회"
   ]
  },
  {
   "cell_type": "code",
   "execution_count": 40,
   "metadata": {},
   "outputs": [
    {
     "name": "stdout",
     "output_type": "stream",
     "text": [
      "item, user\n",
      "Precision: \n",
      "train \n",
      "  5: 0.1182, 10: 0.1033\n",
      "test \n",
      "  5: 0.0405, 10: 0.0355\n",
      "AUC: train 0.9263, test 0.9253.\n"
     ]
    }
   ],
   "source": [
    "print('item, user')\n",
    "test_data(model, game_features, user_features)"
   ]
  },
  {
   "cell_type": "code",
   "execution_count": 41,
   "metadata": {
    "id": "PxBDmMAU1582"
   },
   "outputs": [
    {
     "name": "stderr",
     "output_type": "stream",
     "text": [
      "Epoch: 100%|███████████████████████████████████████████████████████████████████████████| 10/10 [03:59<00:00, 23.97s/it]\n"
     ]
    },
    {
     "data": {
      "text/plain": [
       "<lightfm.lightfm.LightFM at 0x205b8b10d90>"
      ]
     },
     "execution_count": 41,
     "metadata": {},
     "output_type": "execute_result"
    }
   ],
   "source": [
    "model_ = LightFM(loss='warp') \n",
    "model_.fit(train, item_features=None,\n",
    "          user_features=user_features, epochs = 10, num_threads = 4, verbose=True) # 에포크 2회 -> 10회"
   ]
  },
  {
   "cell_type": "code",
   "execution_count": 58,
   "metadata": {},
   "outputs": [
    {
     "name": "stdout",
     "output_type": "stream",
     "text": [
      "Only user\n",
      "Precision: \n",
      "train \n",
      "  5: 0.1178, 10: 0.1033\n",
      "test \n",
      "  5: 0.0405, 10: 0.0355\n",
      "AUC: train 0.9263, test 0.9253.\n"
     ]
    }
   ],
   "source": [
    "print('Only user')\n",
    "test_data(model_, None, user_features)"
   ]
  },
  {
   "cell_type": "code",
   "execution_count": 54,
   "metadata": {
    "id": "87uhZr4T2VHd"
   },
   "outputs": [
    {
     "name": "stderr",
     "output_type": "stream",
     "text": [
      "Epoch: 100%|███████████████████████████████████████████████████████████████████████████| 10/10 [06:57<00:00, 41.79s/it]\n"
     ]
    },
    {
     "data": {
      "text/plain": [
       "<lightfm.lightfm.LightFM at 0x206ac603a90>"
      ]
     },
     "execution_count": 54,
     "metadata": {},
     "output_type": "execute_result"
    }
   ],
   "source": [
    "model__ = LightFM(loss='warp') \n",
    "model__.fit(train, item_features=game_features, epochs = 10, num_threads = 4, verbose=True) # 에포크 2회 -> 10회"
   ]
  },
  {
   "cell_type": "code",
   "execution_count": 57,
   "metadata": {
    "id": "mMraX4DzGHKk"
   },
   "outputs": [
    {
     "name": "stdout",
     "output_type": "stream",
     "text": [
      "Only item\n",
      "Precision: \n",
      "train \n",
      "  5: 0.1835, 10: 0.1565\n",
      "test \n",
      "  5: 0.0570, 10: 0.0481\n",
      "AUC: train 0.9695, test 0.9515.\n"
     ]
    }
   ],
   "source": [
    "print('Only item')\n",
    "test_data(model__, game_features, None)"
   ]
  },
  {
   "cell_type": "code",
   "execution_count": 51,
   "metadata": {
    "id": "-eEQY0ClGI0d"
   },
   "outputs": [
    {
     "name": "stderr",
     "output_type": "stream",
     "text": [
      "Epoch: 100%|███████████████████████████████████████████████████████████████████████████| 10/10 [03:15<00:00, 19.51s/it]\n"
     ]
    },
    {
     "data": {
      "text/plain": [
       "<lightfm.lightfm.LightFM at 0x206ac50bc70>"
      ]
     },
     "execution_count": 51,
     "metadata": {},
     "output_type": "execute_result"
    }
   ],
   "source": [
    "model___ = LightFM(loss='warp') \n",
    "model___.fit(train, item_features=None,\n",
    "          user_features=None, epochs = 10, num_threads = 4, verbose=True) # 에포크 2회 -> 10회"
   ]
  },
  {
   "cell_type": "code",
   "execution_count": 59,
   "metadata": {
    "id": "R4k8thvAH8Q4"
   },
   "outputs": [
    {
     "name": "stdout",
     "output_type": "stream",
     "text": [
      "no features\n",
      "Precision: \n",
      "train \n",
      "  5: 0.1900, 10: 0.1625\n",
      "test \n",
      "  5: 0.0593, 10: 0.0501\n",
      "AUC: train 0.9738, test 0.9560.\n"
     ]
    }
   ],
   "source": [
    "print('no features')\n",
    "test_data(model___, None, None)"
   ]
  },
  {
   "cell_type": "code",
   "execution_count": null,
   "metadata": {
    "id": "jH7Yys8pH9Zt"
   },
   "outputs": [],
   "source": []
  },
  {
   "cell_type": "code",
   "execution_count": null,
   "metadata": {
    "colab": {
     "base_uri": "https://localhost:8080/"
    },
    "id": "tB80yRbf5e6a",
    "outputId": "02ddf9c3-a7c7-42b5-a86e-e255c0733f91"
   },
   "outputs": [],
   "source": []
  },
  {
   "cell_type": "code",
   "execution_count": 91,
   "metadata": {
    "id": "4aF3QS7n5XQO"
   },
   "outputs": [],
   "source": [
    "from sklearn.metrics import ndcg_score\n"
   ]
  },
  {
   "cell_type": "markdown",
   "metadata": {
    "id": "EPgxet8bGDH0"
   },
   "source": [
    "추천에서는 성능 지표로 precision@k 를 많이 사용하고 \n",
    "\n",
    "Precision@5 = 0.05 (test) 는 순위로 rank 가 된 게임 중 (k=) 5번째 내에 관심 있을 게임이 나올 정확도가 평균 5% 라는 것입니다. 수치가 매우 낮아보이지만, user/content 수가 많은 real 환경에서 5%를 넘기는 어렵다.\n",
    "​\n",
    "\n",
    "AUC는 모델의 전체 적인 성능을 나타내는 지표이다.\n",
    "\n",
    "​"
   ]
  },
  {
   "cell_type": "markdown",
   "metadata": {
    "id": "QkPzIbTEFcbY"
   },
   "source": [
    "\n",
    "\n",
    "> ## Predict score & Recommend games \n",
    "\n"
   ]
  },
  {
   "cell_type": "markdown",
   "metadata": {
    "id": "6eEW13Z-UC6k"
   },
   "source": []
  },
  {
   "cell_type": "code",
   "execution_count": 200,
   "metadata": {},
   "outputs": [],
   "source": [
    "users['author'] = users['author'].reset_index().drop(columns=['index'])"
   ]
  },
  {
   "cell_type": "code",
   "execution_count": 163,
   "metadata": {
    "id": "m6akcuXJFkr5"
   },
   "outputs": [],
   "source": [
    "def recommendation(model, data, to_recommend): # 인자: model, interactions, to_recommend\n",
    "    labels = items[['appid']]\n",
    "    n_users, n_items = data.shape\n",
    "\n",
    "    scores = model.predict(to_recommend, np.arange(n_items)) \n",
    "    labels['scores'] = scores.tolist()\n",
    "    labels.sort_values(by = ['scores'], ascending = False,inplace = True)\n",
    "    \n",
    "    return labels"
   ]
  },
  {
   "cell_type": "markdown",
   "metadata": {
    "id": "j2XjGZJWMA0A"
   },
   "source": [
    "\n",
    "\n",
    "*   group에 author id를 입력하면 모든 games 의 예측 평점을 계산하고\n",
    "ex) user 1 -> group = [0], user 2 = group = [1] \n",
    "*   list_no에 원하는 게임 수를 입력하면 높은순으로 games(id:score)를 리턴합니다."
   ]
  },
  {
   "cell_type": "code",
   "execution_count": 201,
   "metadata": {
    "colab": {
     "base_uri": "https://localhost:8080/"
    },
    "id": "S9KLO-4m2vSz",
    "outputId": "71cb1461-26a8-469e-9598-cd17023c88e7"
   },
   "outputs": [
    {
     "name": "stdout",
     "output_type": "stream",
     "text": [
      "424204\n"
     ]
    }
   ],
   "source": [
    "#author = str(input('유저 입력: '))\n",
    "author = str(76561198995116208)\n",
    "idx = int(users.loc[users['author']== author].index[0]) # predict의 첫번째 인자가 user의 index이므로 변환\n",
    "print(idx)"
   ]
  },
  {
   "cell_type": "code",
   "execution_count": 214,
   "metadata": {},
   "outputs": [
    {
     "name": "stdout",
     "output_type": "stream",
     "text": [
      "name: Fall Guys: Ultimate Knockout\n",
      "name: eFootball PES 2021 SEASON UPDATE\n",
      "name: Dying Light\n",
      "name: The Witcher® 3: Wild Hunt\n",
      "name: Sniper Ghost Warrior 3\n",
      "name: Friday the 13th: The Game\n",
      "name: Age of History II\n",
      "name: Yet Another Zombie Defense HD\n",
      "name: Stick Fight: The Game\n",
      "name: CHANGE: A Homeless Survival Experience\n"
     ]
    }
   ],
   "source": [
    "known_positives = ratings[ratings['author']==author]\n",
    "known_positives = known_positives['appid']\n",
    "known_positives = known_positives.values.tolist()\n",
    "for kp in known_positives:\n",
    "  print('name:', games.loc[games['appid'] == kp].iloc[0][1])"
   ]
  },
  {
   "cell_type": "code",
   "execution_count": 217,
   "metadata": {
    "colab": {
     "base_uri": "https://localhost:8080/"
    },
    "id": "lKzS3u3VKS-h",
    "outputId": "48bed7c2-60f1-4999-9906-1b28341e8313"
   },
   "outputs": [
    {
     "name": "stdout",
     "output_type": "stream",
     "text": [
      "name: F.E.A.R.   score: 0.5\n",
      "name: Euro Truck Simulator 2   score: 0.48\n",
      "name: Far Cry® 5   score: 0.472\n",
      "name: Tom Clancy's Rainbow Six® Siege   score: 0.468\n",
      "name: DayZ   score: 0.461\n",
      "name: Divinity: Original Sin 2 - Definitive Edition   score: 0.458\n",
      "name: PUBG: BATTLEGROUNDS   score: 0.456\n",
      "name: Monster Hunter: World   score: 0.442\n",
      "name: Cities: Skylines   score: 0.427\n",
      "name: Risk of Rain 2   score: 0.427\n",
      "name: ARK: Survival Evolved   score: 0.42\n",
      "name: Counter-Strike: Global Offensive   score: 0.416\n",
      "name: Grand Theft Auto V   score: 0.416\n",
      "name: Plants vs. Zombies GOTY Edition   score: 0.412\n"
     ]
    }
   ],
   "source": [
    "list_no = 15 # 임의로 15개 추천\n",
    "\n",
    "top_items = recommendation(model, interactions, idx)\n",
    "\n",
    "x=0\n",
    "while x<list_no:\n",
    "    appid = top_items.iloc[x][0]\n",
    "    if appid not in known_positives:\n",
    "        print('name:', games.loc[games['appid']==appid].iloc[0][1], '  score:', round(top_items.iloc[x][1], 3)) # 소수점 넷째자리에서 반올림\n",
    "    x+=1"
   ]
  },
  {
   "cell_type": "code",
   "execution_count": 213,
   "metadata": {},
   "outputs": [
    {
     "data": {
      "text/plain": [
       "[['76561198995116208', 1097150, 1037.0, 335, True, 1],\n",
       " ['76561198995116208', 1259970, 7806.0, 205, True, 0],\n",
       " ['76561198995116208', 239140, 1124.0, 556, True, 0],\n",
       " ['76561198995116208', 292030, 521.0, 107, True, 3],\n",
       " ['76561198995116208', 368070, 39.0, 38, False, 0],\n",
       " ['76561198995116208', 438740, 3685.0, 302, True, 5],\n",
       " ['76561198995116208', 603850, 1700.0, 522, True, 9],\n",
       " ['76561198995116208', 674750, 283.0, 17, True, 0],\n",
       " ['76561198995116208', 674940, 1835.0, 974, True, 1],\n",
       " ['76561198995116208', 926140, 199.0, 176, True, 0]]"
      ]
     },
     "execution_count": 213,
     "metadata": {},
     "output_type": "execute_result"
    }
   ],
   "source": [
    "known_positives.values.tolist()"
   ]
  },
  {
   "cell_type": "code",
   "execution_count": 72,
   "metadata": {
    "id": "M7dN7Y1YExdX"
   },
   "outputs": [],
   "source": [
    "# ndcg 점수 평가\n",
    "from sklearn.metrics import ndcg_score\n",
    "from tqdm.notebook import tqdm"
   ]
  },
  {
   "cell_type": "code",
   "execution_count": null,
   "metadata": {
    "id": "_d2GLNAURuAx"
   },
   "outputs": [],
   "source": [
    "# 현재 이 부분에서 전체 ineractions matrix에 대한 score를 추출하고, score_data를 ineractions matrix의 최대/최소 범위에 대해 정규화해서\n",
    "# scikit-learn의 ndcg_score에 넣어 ndcg 평가를 수행할 계획이었음. "
   ]
  },
  {
   "cell_type": "code",
   "execution_count": 60,
   "metadata": {
    "colab": {
     "base_uri": "https://localhost:8080/",
     "height": 190
    },
    "id": "N2Z_RBpZKQR_",
    "outputId": "4d3188ef-4a00-4afe-ee93-2c12ea088825"
   },
   "outputs": [],
   "source": [
    "score_data['author'] = score_data['author'].astype('str')"
   ]
  },
  {
   "cell_type": "code",
   "execution_count": 61,
   "metadata": {},
   "outputs": [],
   "source": [
    "score_data.drop_duplicates(inplace = True)"
   ]
  },
  {
   "cell_type": "code",
   "execution_count": 66,
   "metadata": {},
   "outputs": [],
   "source": [
    "items.reset_index(inplace = True)"
   ]
  },
  {
   "cell_type": "code",
   "execution_count": 76,
   "metadata": {},
   "outputs": [],
   "source": [
    "items.drop(columns=['index'], inplace=True)"
   ]
  },
  {
   "cell_type": "code",
   "execution_count": 77,
   "metadata": {},
   "outputs": [
    {
     "data": {
      "text/html": [
       "<div>\n",
       "<style scoped>\n",
       "    .dataframe tbody tr th:only-of-type {\n",
       "        vertical-align: middle;\n",
       "    }\n",
       "\n",
       "    .dataframe tbody tr th {\n",
       "        vertical-align: top;\n",
       "    }\n",
       "\n",
       "    .dataframe thead th {\n",
       "        text-align: right;\n",
       "    }\n",
       "</style>\n",
       "<table border=\"1\" class=\"dataframe\">\n",
       "  <thead>\n",
       "    <tr style=\"text-align: right;\">\n",
       "      <th></th>\n",
       "      <th>appid</th>\n",
       "    </tr>\n",
       "  </thead>\n",
       "  <tbody>\n",
       "    <tr>\n",
       "      <th>0</th>\n",
       "      <td>10</td>\n",
       "    </tr>\n",
       "    <tr>\n",
       "      <th>1</th>\n",
       "      <td>100</td>\n",
       "    </tr>\n",
       "    <tr>\n",
       "      <th>2</th>\n",
       "      <td>1000010</td>\n",
       "    </tr>\n",
       "    <tr>\n",
       "      <th>3</th>\n",
       "      <td>1000030</td>\n",
       "    </tr>\n",
       "    <tr>\n",
       "      <th>4</th>\n",
       "      <td>1000080</td>\n",
       "    </tr>\n",
       "    <tr>\n",
       "      <th>...</th>\n",
       "      <td>...</td>\n",
       "    </tr>\n",
       "    <tr>\n",
       "      <th>11561</th>\n",
       "      <td>998930</td>\n",
       "    </tr>\n",
       "    <tr>\n",
       "      <th>11562</th>\n",
       "      <td>99900</td>\n",
       "    </tr>\n",
       "    <tr>\n",
       "      <th>11563</th>\n",
       "      <td>999020</td>\n",
       "    </tr>\n",
       "    <tr>\n",
       "      <th>11564</th>\n",
       "      <td>999220</td>\n",
       "    </tr>\n",
       "    <tr>\n",
       "      <th>11565</th>\n",
       "      <td>999660</td>\n",
       "    </tr>\n",
       "  </tbody>\n",
       "</table>\n",
       "<p>11566 rows × 1 columns</p>\n",
       "</div>"
      ],
      "text/plain": [
       "         appid\n",
       "0           10\n",
       "1          100\n",
       "2      1000010\n",
       "3      1000030\n",
       "4      1000080\n",
       "...        ...\n",
       "11561   998930\n",
       "11562    99900\n",
       "11563   999020\n",
       "11564   999220\n",
       "11565   999660\n",
       "\n",
       "[11566 rows x 1 columns]"
      ]
     },
     "execution_count": 77,
     "metadata": {},
     "output_type": "execute_result"
    }
   ],
   "source": [
    "items"
   ]
  },
  {
   "cell_type": "code",
   "execution_count": 88,
   "metadata": {},
   "outputs": [],
   "source": [
    "def get_ndcg(test_model, user_f, item_f):\n",
    "    n_users = 100 # interactions.shape[0]에서 세션 다운(램에 제한 존재) 문제 때문에 임의로 100개 유저 기준으로 테스트\n",
    "    k = 5\n",
    "    ndcg_s = []\n",
    "\n",
    "    for i in tqdm(range(n_users)):\n",
    "      user = users.iloc[i][0]\n",
    "      appid_for_top_k = score_data.loc[score_data['author'] == user].sort_values('scores', ascending = False)['appid'][:k] # user의 score_data가 존재하는 앱 추출\n",
    "      n_items = []\n",
    "      for j in appid_for_top_k:\n",
    "        n_items.append(items.loc[items['appid'] == j].index[0])\n",
    "      # scores_by_recsys, scores_by_true의 범위가 다르므로 정규화 진행\n",
    "      scores_by_recsys = np.reshape(test_model.predict(i, np.asarray(n_items, dtype = np.int32), user_features=user_f, item_features=item_f), (-1, k))\n",
    "      scores_by_true = np.reshape(np.asarray(score_data.loc[score_data['author'] == user].sort_values('scores', ascending = False)['scores'][:k], dtype = np.float32),  (-1, k))\n",
    "\n",
    "      norms_by_recsys = np.linalg.norm(scores_by_recsys)\n",
    "      norms_by_true = np.linalg.norm(scores_by_true)\n",
    "\n",
    "      scores_by_recsys = scores_by_recsys / 10\n",
    "      scores_by_true = scores_by_true\n",
    "\n",
    "      ndcg_s.append(ndcg_score(scores_by_true, scores_by_recsys))\n",
    "    ndcg_s = sum(ndcg_s) / n_users\n",
    "    return ndcg_s"
   ]
  },
  {
   "cell_type": "code",
   "execution_count": 89,
   "metadata": {},
   "outputs": [
    {
     "name": "stdout",
     "output_type": "stream",
     "text": [
      "both features\n"
     ]
    },
    {
     "data": {
      "application/vnd.jupyter.widget-view+json": {
       "model_id": "11fb17c96eb44c0ea4c6a4aa6c22b5e7",
       "version_major": 2,
       "version_minor": 0
      },
      "text/plain": [
       "  0%|          | 0/100 [00:00<?, ?it/s]"
      ]
     },
     "metadata": {},
     "output_type": "display_data"
    },
    {
     "name": "stdout",
     "output_type": "stream",
     "text": [
      "0.9669108207186489\n"
     ]
    }
   ],
   "source": [
    "print('both features')\n",
    "print(get_ndcg(model, user_features, game_features))"
   ]
  },
  {
   "cell_type": "code",
   "execution_count": 93,
   "metadata": {},
   "outputs": [
    {
     "name": "stdout",
     "output_type": "stream",
     "text": [
      "only user\n"
     ]
    },
    {
     "data": {
      "application/vnd.jupyter.widget-view+json": {
       "model_id": "2da384d8ca724da1af1b57a071ff4601",
       "version_major": 2,
       "version_minor": 0
      },
      "text/plain": [
       "  0%|          | 0/100 [00:00<?, ?it/s]"
      ]
     },
     "metadata": {},
     "output_type": "display_data"
    },
    {
     "name": "stdout",
     "output_type": "stream",
     "text": [
      "0.9678637781297236\n"
     ]
    }
   ],
   "source": [
    "print('only user')\n",
    "print(get_ndcg(model_, user_features, None))"
   ]
  },
  {
   "cell_type": "code",
   "execution_count": 95,
   "metadata": {
    "id": "5XgtLmMMSHwA"
   },
   "outputs": [
    {
     "name": "stdout",
     "output_type": "stream",
     "text": [
      "only item\n"
     ]
    },
    {
     "data": {
      "application/vnd.jupyter.widget-view+json": {
       "model_id": "45577c6c3b924fc1a03dc15027676f95",
       "version_major": 2,
       "version_minor": 0
      },
      "text/plain": [
       "  0%|          | 0/100 [00:00<?, ?it/s]"
      ]
     },
     "metadata": {},
     "output_type": "display_data"
    },
    {
     "name": "stdout",
     "output_type": "stream",
     "text": [
      "0.9620796194687113\n"
     ]
    }
   ],
   "source": [
    "print('only item')\n",
    "print(get_ndcg(model__, None, game_features))"
   ]
  },
  {
   "cell_type": "code",
   "execution_count": 96,
   "metadata": {
    "colab": {
     "base_uri": "https://localhost:8080/"
    },
    "id": "eajx3n3nSdiK",
    "outputId": "a0ae42c4-4052-47f1-b7d0-3d4f5035ecab"
   },
   "outputs": [
    {
     "name": "stdout",
     "output_type": "stream",
     "text": [
      "no features\n"
     ]
    },
    {
     "data": {
      "application/vnd.jupyter.widget-view+json": {
       "model_id": "211d56fd26344b4989697facbfcf63e4",
       "version_major": 2,
       "version_minor": 0
      },
      "text/plain": [
       "  0%|          | 0/100 [00:00<?, ?it/s]"
      ]
     },
     "metadata": {},
     "output_type": "display_data"
    },
    {
     "name": "stdout",
     "output_type": "stream",
     "text": [
      "0.965200218997247\n"
     ]
    }
   ],
   "source": [
    "print('no features')\n",
    "print(get_ndcg(model___, None, None))"
   ]
  },
  {
   "cell_type": "code",
   "execution_count": 142,
   "metadata": {},
   "outputs": [],
   "source": [
    "scored_data['scores'] = (scored_data['scores']-10)/10"
   ]
  },
  {
   "cell_type": "code",
   "execution_count": 145,
   "metadata": {},
   "outputs": [
    {
     "data": {
      "text/plain": [
       "11566"
      ]
     },
     "execution_count": 145,
     "metadata": {},
     "output_type": "execute_result"
    }
   ],
   "source": [
    "len(scores)"
   ]
  },
  {
   "cell_type": "code",
   "execution_count": null,
   "metadata": {},
   "outputs": [],
   "source": []
  }
 ],
 "metadata": {
  "colab": {
   "provenance": []
  },
  "kernelspec": {
   "display_name": "Python 3 (ipykernel)",
   "language": "python",
   "name": "python3"
  },
  "language_info": {
   "codemirror_mode": {
    "name": "ipython",
    "version": 3
   },
   "file_extension": ".py",
   "mimetype": "text/x-python",
   "name": "python",
   "nbconvert_exporter": "python",
   "pygments_lexer": "ipython3",
   "version": "3.9.7"
  }
 },
 "nbformat": 4,
 "nbformat_minor": 1
}
